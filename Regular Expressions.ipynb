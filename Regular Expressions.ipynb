{
 "cells": [
  {
   "cell_type": "markdown",
   "metadata": {},
   "source": [
    "## Parsing Raw Text Files"
   ]
  },
  {
   "cell_type": "markdown",
   "metadata": {},
   "source": [
    "- __Python Version__: Python 3.6.5"
   ]
  },
  {
   "cell_type": "code",
   "execution_count": 1,
   "metadata": {},
   "outputs": [
    {
     "name": "stdout",
     "output_type": "stream",
     "text": [
      "Python Version: 3.6.5 (default, Jun 17 2018, 12:13:06) \n",
      "[GCC 4.2.1 Compatible Apple LLVM 9.1.0 (clang-902.0.39.2)]\n"
     ]
    }
   ],
   "source": [
    "import sys\n",
    "print(\"Python Version: {}\".format(sys.version))"
   ]
  },
  {
   "cell_type": "markdown",
   "metadata": {},
   "source": [
    "Libraries Used:\n",
    "\n",
    "1. [__sys__](https://docs.python.org/3.6/library/sys.html#module-sys) (Python Software Foundation, 2018): System module to find the python version\n",
    "2. [__os__](https://docs.python.org/3/library/os.html#module-os) (Python Software Foundation, 2018): Using the [$listdir()$](https://docs.python.org/3.6/library/os.html#os.listdir) (Python Software Foundation, 2018) method to list the files present in the directory\n",
    "3. [__re__](https://docs.python.org/3.6/library/re.html#module-re) (Python Software Foundation, 2018): Python package for handling regular expressions.\n",
    "4. [__json__](https://docs.python.org/3.6/library/json.html) (Python Software Foundation, 2018): Python package for loading and dumping json objects to and from a file."
   ]
  },
  {
   "cell_type": "markdown",
   "metadata": {},
   "source": [
    "## 1. Introduction\n",
    "\n",
    "The task is to extract information from an unstructured text file (i.e. text file regarding multiple job listings) and converting them to 2 different data storage file formats:\n",
    "1. XML (Extensible Markup Language)\n",
    "2. json (Javascript Object Notation)"
   ]
  },
  {
   "cell_type": "markdown",
   "metadata": {},
   "source": [
    "## 2. Importing Packages"
   ]
  },
  {
   "cell_type": "code",
   "execution_count": 139,
   "metadata": {},
   "outputs": [],
   "source": [
    "import os\n",
    "import re\n",
    "import json"
   ]
  },
  {
   "cell_type": "markdown",
   "metadata": {},
   "source": [
    "## 3. Creating a sample dataset\n",
    "\n",
    "Creating a sliced version of the job listings text file with top 4 job listings, to run quick tests before validating the solution with the entire dataset."
   ]
  },
  {
   "cell_type": "code",
   "execution_count": 3,
   "metadata": {},
   "outputs": [],
   "source": [
    "sample_fn = \"./datasets/sample_dataset.dat\"\n",
    "dataset_fn = \"./datasets/input.dat\""
   ]
  },
  {
   "cell_type": "code",
   "execution_count": 4,
   "metadata": {},
   "outputs": [],
   "source": [
    "with open(sample_fn, \"w\") as fw:\n",
    "    try:\n",
    "        with open(dataset_fn) as fh:\n",
    "\n",
    "            count = 0\n",
    "            for line in fh:\n",
    "                if line.strip() == \"------------------------------\":\n",
    "                    count = count + 1\n",
    "\n",
    "                if count != 4:\n",
    "                    fw.write(line)\n",
    "                else:\n",
    "                    fw.write(line)\n",
    "                    break\n",
    "    except FileNotFoundError:\n",
    "        print(\"File not found. Check folder location.\")"
   ]
  },
  {
   "cell_type": "markdown",
   "metadata": {},
   "source": [
    "Ensuring a check to validate the file has been created or not."
   ]
  },
  {
   "cell_type": "code",
   "execution_count": 5,
   "metadata": {},
   "outputs": [],
   "source": [
    "def check_sample():\n",
    "    flag = False\n",
    "    dataset_dir = \"./datasets\"\n",
    "    for file in os.listdir(dataset_dir):\n",
    "        if file == \"sample_dataset.dat\":\n",
    "            print(\"File created\")\n",
    "            return True\n",
    "\n",
    "    print(\"Sample file not created.\")    \n",
    "    return False"
   ]
  },
  {
   "cell_type": "code",
   "execution_count": 6,
   "metadata": {},
   "outputs": [
    {
     "name": "stdout",
     "output_type": "stream",
     "text": [
      "File created\n"
     ]
    },
    {
     "data": {
      "text/plain": [
       "True"
      ]
     },
     "execution_count": 6,
     "metadata": {},
     "output_type": "execute_result"
    }
   ],
   "source": [
    "check_sample()"
   ]
  },
  {
   "cell_type": "markdown",
   "metadata": {},
   "source": [
    "## 4. Counting the total job listings provided"
   ]
  },
  {
   "cell_type": "markdown",
   "metadata": {},
   "source": [
    "From observation of the dataset it can be seen that the dataset is split using a sequence of `-`'s, thus there are two ways of finding the total count of job postings in the dataset:\n",
    "1. __using an iterative approach__: Counting the number of occurrences of the _unique_ string\n",
    "2. __using regular expressions__: Designing a regular expression to match the _unique_ string and find the length of the generated array."
   ]
  },
  {
   "cell_type": "markdown",
   "metadata": {},
   "source": [
    "__1. Iterative approach__"
   ]
  },
  {
   "cell_type": "code",
   "execution_count": 7,
   "metadata": {},
   "outputs": [],
   "source": [
    "def count_iterative():\n",
    "    job_count = 0\n",
    "    with open(dataset_fn) as fh:\n",
    "        for line in fh:\n",
    "            if line.strip() == \"------------------------------\":\n",
    "                job_count += 1\n",
    "    return job_count"
   ]
  },
  {
   "cell_type": "markdown",
   "metadata": {},
   "source": [
    "__2. Using regular expressions__"
   ]
  },
  {
   "cell_type": "code",
   "execution_count": 8,
   "metadata": {},
   "outputs": [],
   "source": [
    "def count_re():\n",
    "    expr = r\"---+\"\n",
    "    fh = open(dataset_fn)\n",
    "    textfile = fh.read()\n",
    "    job_count = len(re.findall(expr, textfile))\n",
    "    fh.close()\n",
    "    return job_count"
   ]
  },
  {
   "cell_type": "markdown",
   "metadata": {},
   "source": [
    "__Regular Expression used:__ `---+`\n",
    "<br/>\n",
    "__Explanation__: Matching 3 or more `-` symbols, which uniquely identifies the separator for each job listing."
   ]
  },
  {
   "cell_type": "code",
   "execution_count": 9,
   "metadata": {},
   "outputs": [
    {
     "name": "stdout",
     "output_type": "stream",
     "text": [
      "Total Job Postings: 32474\n"
     ]
    }
   ],
   "source": [
    "job_count = count_iterative()\n",
    "print(\"Total Job Postings: {}\".format(job_count))"
   ]
  },
  {
   "cell_type": "code",
   "execution_count": 10,
   "metadata": {},
   "outputs": [
    {
     "name": "stdout",
     "output_type": "stream",
     "text": [
      "Total Job Postings: 32474\n"
     ]
    }
   ],
   "source": [
    "job_count = count_re()\n",
    "print(\"Total Job Postings: {}\".format(job_count))"
   ]
  },
  {
   "cell_type": "markdown",
   "metadata": {},
   "source": [
    "Thus by the two approaches it can be verified that there are `32474` job postings in the given dataset."
   ]
  },
  {
   "cell_type": "markdown",
   "metadata": {},
   "source": [
    "## 5. Split dataset method"
   ]
  },
  {
   "cell_type": "code",
   "execution_count": 11,
   "metadata": {},
   "outputs": [],
   "source": [
    "def find_individual_listing(re_val, dataset_file):\n",
    "    try:\n",
    "        fh = open(dataset_file)\n",
    "        textfile = fh.read()\n",
    "        fh.close()\n",
    "    except FileNotFoundError:\n",
    "        print(\"File not found. Check if <datasets> folder exists\")\n",
    "    \n",
    "    job_listings = re.findall(re_val, textfile)\n",
    "    return job_listings"
   ]
  },
  {
   "cell_type": "markdown",
   "metadata": {},
   "source": [
    "__Method: $find\\_individual\\_listing()$__\n",
    "\n",
    "- Parameters: \n",
    "    - re_val[str]: Regular expression used for splitting the dataset.\n",
    "    - dataset_file[str]: Relative file path for the dataset being used i.e.\n",
    "        - sample_fn: Sample Dataset file path.\n",
    "        - dataset_fn: Actual Dataset file path.\n",
    "        \n",
    "- Return:\n",
    "    - job_listing[list]: List containing individual job postings.\n",
    "    \n",
    "- Returning a list of individual job listings from the provided dataset, using the [$findall()$](https://docs.python.org/3.6/library/re.html#re.findall) (Python Software Foundation, 2018) routine of the `re` module, which matches the expression in the passed string and returns a list of all matched groups."
   ]
  },
  {
   "cell_type": "code",
   "execution_count": 12,
   "metadata": {},
   "outputs": [],
   "source": [
    "re_val_1 = r\"(ID(?:.*\\n)*)\""
   ]
  },
  {
   "cell_type": "markdown",
   "metadata": {},
   "source": [
    "__Regular Expression used:__ `(ID(?:.*\\n)*)` <br/>\n",
    "__Explanation:__ \n",
    "\n",
    "- Match strings starting with the characters `I` and `D`.\n",
    "- Match all characters thereafter using the expression `(.*\\n)*`. \n",
    "- The `?:` within `()` denotes that it is a non capturing group. "
   ]
  },
  {
   "cell_type": "code",
   "execution_count": 13,
   "metadata": {},
   "outputs": [
    {
     "name": "stdout",
     "output_type": "stream",
     "text": [
      "Total listings captured: 1\n",
      "\n"
     ]
    }
   ],
   "source": [
    "sample_job_lists = find_individual_listing(re_val_1, sample_fn)\n",
    "print(\"Total listings captured: {}\\n\".format(len(sample_job_lists)))"
   ]
  },
  {
   "cell_type": "markdown",
   "metadata": {},
   "source": [
    "The __re__ used did not split the dataset into individual listings, instead it matched the entire text as one group because of the expression `(.*\\n)*` and the fact that regular expressions work in a Greedy manner.\n",
    "\n",
    "__Solution:__ There must be some stopping point indicating the start of the new split. <br/>\n",
    "Based on the previous observation each job posting is divided using a defined sequence of `------------------------------`, it may be useful to use this property to find the end of each listings."
   ]
  },
  {
   "cell_type": "code",
   "execution_count": 14,
   "metadata": {},
   "outputs": [],
   "source": [
    "re_val_2 = r\"(ID(?:.*\\n)*(?:---+\\n?))\""
   ]
  },
  {
   "cell_type": "markdown",
   "metadata": {},
   "source": [
    "__Regular Expression used:__ `(ID(?:.*\\n)*(?:---+\\n?))` <br/>\n",
    "__Explanation:__ \n",
    "\n",
    "- Match strings starting with the characters `I` and `D`.\n",
    "- Match all characters thereafter using the expression `(.*\\n)*`. \n",
    "- Using an additional sequence to identify `-`'s present after each job listing i.e. `---+\\n?`.\n",
    "- The expression `\\n?` is to cover the last listing in the dataset which does not have a new line character after it.\n",
    "Thus making `\\n` optional."
   ]
  },
  {
   "cell_type": "code",
   "execution_count": 15,
   "metadata": {},
   "outputs": [
    {
     "name": "stdout",
     "output_type": "stream",
     "text": [
      "Total listings captured: 1\n",
      "\n"
     ]
    }
   ],
   "source": [
    "sample_job_lists = find_individual_listing(re_val_2, sample_fn)\n",
    "print(\"Total listings captured: {}\\n\".format(len(sample_job_lists)))"
   ]
  },
  {
   "cell_type": "markdown",
   "metadata": {},
   "source": [
    "The above __re__ as well does not seem to produce the desired output.\n",
    "\n",
    "__Reason:__ Regular Expressions are greedy in nature and each group would try to capture as many values as possible. Thus the expression `(ID(?:.*\\n)*` would match all characters upto the last sequence of `------------------------------`.\n",
    "\n",
    "__Solution:__ Using the lazy approach of regular expressions, by appending a `?` after the repeating symbol i.e. `*` to make the regular expression capture only what is necessary. "
   ]
  },
  {
   "cell_type": "code",
   "execution_count": 16,
   "metadata": {},
   "outputs": [],
   "source": [
    "re_val_3 = \"(ID(?:.*\\n)*?(?:---+))\""
   ]
  },
  {
   "cell_type": "markdown",
   "metadata": {},
   "source": [
    "__Regular Expression used:__ `(ID(?:.*\\n)*?(?:---+))` <br/>\n",
    "__Explanation:__ \n",
    "\n",
    "- appending a `?` after the `*` to make the regular expression search in a lazy manner."
   ]
  },
  {
   "cell_type": "code",
   "execution_count": 17,
   "metadata": {},
   "outputs": [
    {
     "name": "stdout",
     "output_type": "stream",
     "text": [
      "Total listings captured: 4\n",
      "\n"
     ]
    }
   ],
   "source": [
    "sample_job_lists = find_individual_listing(re_val_3, sample_fn)\n",
    "print(\"Total listings captured: {}\\n\".format(len(sample_job_lists)))"
   ]
  },
  {
   "cell_type": "markdown",
   "metadata": {},
   "source": [
    "The regular expression works well with the sample dataset, validating the same regular expression with the actual dataset.\n",
    "\n",
    "__Expected length of the list:__ `32474` elements"
   ]
  },
  {
   "cell_type": "code",
   "execution_count": 18,
   "metadata": {},
   "outputs": [
    {
     "name": "stdout",
     "output_type": "stream",
     "text": [
      "Total listings captured: 32474\n",
      "\n"
     ]
    }
   ],
   "source": [
    "all_job_lists = find_individual_listing(re_val_3, dataset_fn)\n",
    "print(\"Total listings captured: {}\\n\".format(len(all_job_lists)))"
   ]
  },
  {
   "cell_type": "markdown",
   "metadata": {},
   "source": [
    "Since the number of job listings are validated, the next process would be to extract the features from the dataset."
   ]
  },
  {
   "cell_type": "markdown",
   "metadata": {},
   "source": [
    "## 6. Finding individual features:"
   ]
  },
  {
   "cell_type": "markdown",
   "metadata": {},
   "source": [
    "Observing each individual job listing the following features can be extracted from the dataset:\n",
    "\n",
    "- __Job ID__\n",
    "- __Job Procedures__\n",
    "- __Job Title__\n",
    "- __Job location__\n",
    "- __Application Deadline__\n",
    "- __Start Date__\n",
    "- __Job Responsibilities__\n",
    "- __Job Description__\n",
    "- __Job Salary__\n",
    "- __About Company__\n",
    "- __Required Qualifications__"
   ]
  },
  {
   "cell_type": "markdown",
   "metadata": {},
   "source": [
    "Devising an approach to find a list of all possible feature names using the regular expression:\n",
    "\n",
    "`(.*?):` which extracts all values before `:`. This step is bound to return garbage values, but all possible feature names would also be covered."
   ]
  },
  {
   "cell_type": "code",
   "execution_count": 138,
   "metadata": {},
   "outputs": [],
   "source": [
    "feature_name_re = r\"(.*?):\"\n",
    "\n",
    "possible_features = []\n",
    "for listing in all_job_lists:\n",
    "    feature_names = re.findall(feature_name_re, listing)\n",
    "    for val in feature_names:\n",
    "        if val not in possible_features:\n",
    "            possible_features.append(val.strip())"
   ]
  },
  {
   "cell_type": "code",
   "execution_count": 20,
   "metadata": {},
   "outputs": [
    {
     "name": "stdout",
     "output_type": "stream",
     "text": [
      "10309\n"
     ]
    }
   ],
   "source": [
    "print(len(possible_features))"
   ]
  },
  {
   "cell_type": "markdown",
   "metadata": {},
   "source": [
    "Viewing a slice of the feature names:"
   ]
  },
  {
   "cell_type": "code",
   "execution_count": 21,
   "metadata": {},
   "outputs": [
    {
     "data": {
      "text/plain": [
       "['ID',\n",
       " 'JOB_PROC',\n",
       " ' Please submit your resumes to',\n",
       " 'http',\n",
       " 'DEAD_LINE',\n",
       " ' 14 October 2014, 18',\n",
       " 'JOB_T',\n",
       " 'DATE_START',\n",
       " 'JOB_LOC',\n",
       " 'REQUIRED QUALIFICATIONS']"
      ]
     },
     "execution_count": 21,
     "metadata": {},
     "output_type": "execute_result"
    }
   ],
   "source": [
    "possible_features[0:10]"
   ]
  },
  {
   "cell_type": "markdown",
   "metadata": {},
   "source": [
    "Introducing a look ahead in the regular expression to not include phrases which are immediately followed by:\n",
    "\n",
    "- a number [To remove dates and times]\n",
    "- a forward slash: `/` [To remove web links]\n",
    "- period symbol `.`\n",
    "\n",
    "And instead of matching all characters, we are restricting the character set to match just alphabets and `_`, and another restriction would be to limit the matching words to either `1` or `2` before the occurrence of `:`"
   ]
  },
  {
   "cell_type": "markdown",
   "metadata": {},
   "source": [
    "The modified regular expression would be:\n",
    "`(?:([a-zA-Z_]+(?: [a-zA-Z_]+?)?):)(?![0-9/.])`"
   ]
  },
  {
   "cell_type": "code",
   "execution_count": 22,
   "metadata": {},
   "outputs": [],
   "source": [
    "feature_name_re = r\"(?:([a-zA-Z_]+(?: [a-zA-Z_]+?)?):)(?![0-9/.])\""
   ]
  },
  {
   "cell_type": "code",
   "execution_count": 23,
   "metadata": {},
   "outputs": [],
   "source": [
    "stopwords = []\n",
    "with open(\"stopwords_en.txt\") as fh:\n",
    "    for line in fh:\n",
    "        val = line.strip()\n",
    "        if val != \"about\":\n",
    "            stopwords.append(val)"
   ]
  },
  {
   "cell_type": "code",
   "execution_count": 24,
   "metadata": {},
   "outputs": [],
   "source": [
    "possible_features = set()\n",
    "for listing in all_job_lists:\n",
    "    feature_names = re.findall(feature_name_re, listing)\n",
    "    for val in feature_names:\n",
    "        possible_features.add(val)"
   ]
  },
  {
   "cell_type": "code",
   "execution_count": 25,
   "metadata": {},
   "outputs": [
    {
     "name": "stdout",
     "output_type": "stream",
     "text": [
      "3409\n"
     ]
    }
   ],
   "source": [
    "print(len(possible_features))"
   ]
  },
  {
   "cell_type": "markdown",
   "metadata": {},
   "source": [
    "From this list of possible features, we can get a miniaturised idea on the possible feature names to be validaed for a particular feature in the regular expression."
   ]
  },
  {
   "cell_type": "markdown",
   "metadata": {},
   "source": [
    "### 6.1 Job ID:"
   ]
  },
  {
   "cell_type": "code",
   "execution_count": 26,
   "metadata": {},
   "outputs": [],
   "source": [
    "def find_feature_names(feature_names, possible_features=[]):\n",
    "    names = []\n",
    "    for name in possible_features:\n",
    "        for feature_name in feature_names:\n",
    "            if feature_name in name.lower():\n",
    "                if name not in names:\n",
    "                    names.append(name)\n",
    "    \n",
    "    for val in names:\n",
    "        print(val)\n",
    "    return"
   ]
  },
  {
   "cell_type": "markdown",
   "metadata": {},
   "source": [
    "__Method: $find\\_feature\\_names()$__\n",
    "\n",
    "- Parameters: \n",
    "    - feature_name[list]: Feature names to be checked.\n",
    "    - possible_features[list]: List of all possible feature names.\n",
    "    \n",
    "- Prints the possible feature names for the given $feature\\_name$"
   ]
  },
  {
   "cell_type": "code",
   "execution_count": 27,
   "metadata": {},
   "outputs": [
    {
     "name": "stdout",
     "output_type": "stream",
     "text": [
      "Provide interpretation\n",
      "confidentiality\n",
      "bid packages\n",
      "candidate must\n",
      "considerations\n",
      "provided below\n",
      "Fiduciary Controls\n",
      "considered if\n",
      "Lordkipanidze at\n",
      "Friday\n",
      "and provide\n",
      "side applications\n",
      "ideas\n",
      "and outside\n",
      "s Guidelines\n",
      "provided through\n",
      "national identity\n",
      "style guide\n",
      "their bid\n",
      "consideration to\n",
      "candidate to\n",
      "Incident Handling\n",
      "candidates should\n",
      "the candidate\n",
      "Candidates must\n",
      "Bajelidze at\n",
      "Ordinary Resident\n",
      "Video materials\n",
      "a guideline\n",
      "be elucidated\n",
      "Resident Representative\n",
      "be considered\n",
      "must provide\n",
      "providing services\n",
      "considered\n",
      "candidate should\n",
      "Guidelines\n",
      "provided services\n",
      "video coverage\n",
      "and confidentiality\n",
      "environmental guidelines\n",
      "side technologies\n",
      "Bank Guidelines\n",
      "candidate will\n",
      "Ordinarily Resident\n",
      "ID\n",
      "BDS providers\n",
      "providers through\n",
      "Banks Guidelines\n",
      "Video Production\n",
      "Groups guidelines\n"
     ]
    }
   ],
   "source": [
    "find_feature_names([\"id\"], possible_features)"
   ]
  },
  {
   "cell_type": "markdown",
   "metadata": {},
   "source": [
    "From this list it is evident that there are no other variations for the feature name other than `ID`."
   ]
  },
  {
   "cell_type": "markdown",
   "metadata": {},
   "source": [
    "Looking at one single job listing in isolation from the others."
   ]
  },
  {
   "cell_type": "code",
   "execution_count": 28,
   "metadata": {},
   "outputs": [
    {
     "name": "stdout",
     "output_type": "stream",
     "text": [
      "ID: 29711\n",
      "JOB_PROC: Please submit your resumes to:http://tbe.taleo.net/NA6/ats/careers/requisition.jsp?org=QUESTRADE&cws=1&rid=223\n",
      "Please clearly mention in your application letter that you learned of\n",
      "this job opportunity through Career Center and mention the URL of its\n",
      "website - www.careercenter.am, Thanks.\n",
      "DEAD_LINE: 14 October 2014, 18:00\n",
      "JOB_T: Head of Corporate Customers Relationship Management Division\n",
      "OPEN TO/\n",
      "DATE_START: 12 July 2005\n",
      "JOB_LOC: Yerevan, Armenia\n",
      "REQUIRED QUALIFICATIONS:\n",
      " - Higher education;\n",
      "- At least 2 years of work experience in programming.\n",
      "REMUNERATION/\n",
      "ABOUT COMPANY:\n",
      " According to Brown-Wilson Group Survey* EPAM Systems is\n",
      "the #1 software engineering outsourcing services provider in Central and\n",
      "Eastern Europe. Founded in 1993, EPAM maintains North American\n",
      "headquarters in Lawrenceville, NJ. \n",
      "Currently there are 3500+ highly qualified IT professionals working at\n",
      "EPAM Systems. EPAM software development centers are located in Russia,\n",
      "Hungary, Belarus, Ukraine and Armenia. The company continues its growth\n",
      "and development.  \n",
      "Our mission is: \"\"Delivering excellence in software engineering\"\" to the\n",
      "benefit of our clients.\n",
      "*http://www.theblackbookofoutsourcing.com/top10itooffshoreeasterncentraleurope.html\n",
      "SALARY: High salary is guaranteed\n",
      "JOB DESCRIPTION: The \"\"Clean Energy and Water\"\" (CEW) Program is a\n",
      "four-year initiative funded by the US Agency for International\n",
      "Development. The objective of the Program is to assist sustainable\n",
      "management of water and energy sectors in the Republic of Armenia (RA).\n",
      "Within the framework of the Program, technical assistance will be\n",
      "provided to the RA Government to build river basin management planning\n",
      "capacities in Armenia. Particularly, as part of the assistance in Vorotan\n",
      "river basin management planning, biological monitoring will be\n",
      "implemented, which will also include description and assessment of\n",
      "ecological status of water bodies in the river basin, in accordance with\n",
      "the RA legislation and Guidelines of the EU Water Framework Directive, as\n",
      "implementation of the international best practice. Under this Statement\n",
      "of Work, the activities will be implemented according to the following\n",
      "tasks:\n",
      "RESP:\n",
      " - Develop software using .NET;\n",
      "- Be responsible for project architecture design;\n",
      "- Be responsible for dedicated server and clients configuration;\n",
      "- Research work when required;\n",
      "- Follow team lead, system architecture and Tech Lead in designing the\n",
      "systems.\n",
      "------------------------------\n"
     ]
    }
   ],
   "source": [
    "print(sample_job_lists[0])"
   ]
  },
  {
   "cell_type": "markdown",
   "metadata": {},
   "source": [
    "__observations:__\n",
    "1. Fairly distinctive patterns to identify majority __features__ and their corresponding __values__.\n",
    "2. However, saying that there are some questionable markers like:\n",
    "    - `JOB_T`: Seems like an incomplete feature name.\n",
    "    - `OPEN TO/` and `REMUNERATION/`: All feature names are separated from their values using a `:`, however in this case the separator seems to be `/`, which is something to be noted.\n",
    "    - `tasks:` : (under JOB DESCRIPTION) By having an overview analysis it seemed like the best paramater to separate features from values would be `:` barring a few cases. However there are present some phrases which even though are not feature names end with a `:`.  \n",
    "3. Presence of multiline values for different features line `About Company` which may be difficult to capture."
   ]
  },
  {
   "cell_type": "code",
   "execution_count": 29,
   "metadata": {},
   "outputs": [],
   "source": [
    "id_re = r\"ID: (.*)\""
   ]
  },
  {
   "cell_type": "markdown",
   "metadata": {},
   "source": [
    "__Regular Expression used:__ `ID: (.*)` <br/>\n",
    "__Explanation:__ \n",
    "\n",
    "- Match strings starting with the characters `I` and `D`.\n",
    "- Match all characters thereafter within the same line using the expression `(.*)`, which is also used as the matching group."
   ]
  },
  {
   "cell_type": "markdown",
   "metadata": {},
   "source": [
    "Performing initial tests on the sample dataset."
   ]
  },
  {
   "cell_type": "code",
   "execution_count": 30,
   "metadata": {},
   "outputs": [],
   "source": [
    "job_ids = [\n",
    "    re.findall(id_re, val)[0]\n",
    "    for val in sample_job_lists\n",
    "]"
   ]
  },
  {
   "cell_type": "code",
   "execution_count": 31,
   "metadata": {},
   "outputs": [
    {
     "data": {
      "text/plain": [
       "4"
      ]
     },
     "execution_count": 31,
     "metadata": {},
     "output_type": "execute_result"
    }
   ],
   "source": [
    "len(job_ids)"
   ]
  },
  {
   "cell_type": "markdown",
   "metadata": {},
   "source": [
    "There seems to be no issues in capturing values from the sample dataset. Using the regular expression for the actual dataset."
   ]
  },
  {
   "cell_type": "code",
   "execution_count": 32,
   "metadata": {},
   "outputs": [],
   "source": [
    "job_ids = [\n",
    "    re.findall(id_re, val)[0]\n",
    "    for val in all_job_lists\n",
    "]"
   ]
  },
  {
   "cell_type": "code",
   "execution_count": 33,
   "metadata": {},
   "outputs": [
    {
     "name": "stdout",
     "output_type": "stream",
     "text": [
      "Total job ids fetched are: 32474\n"
     ]
    }
   ],
   "source": [
    "print(\"Total job ids fetched are: {}\".format(len(job_ids)))"
   ]
  },
  {
   "cell_type": "markdown",
   "metadata": {},
   "source": [
    "All job id values have been fetched from the dataset, checking for empty values in the list."
   ]
  },
  {
   "cell_type": "code",
   "execution_count": 34,
   "metadata": {},
   "outputs": [],
   "source": [
    "job_id_bool = [\n",
    "    True\n",
    "    if len(val) > 0\n",
    "    else \n",
    "        False\n",
    "    for val in job_ids\n",
    "]"
   ]
  },
  {
   "cell_type": "code",
   "execution_count": 35,
   "metadata": {},
   "outputs": [
    {
     "data": {
      "text/plain": [
       "True"
      ]
     },
     "execution_count": 35,
     "metadata": {},
     "output_type": "execute_result"
    }
   ],
   "source": [
    "all(job_id_bool)"
   ]
  },
  {
   "cell_type": "markdown",
   "metadata": {},
   "source": [
    "There are no empty values obtained from the dataset.\n",
    "<br/>\n",
    "A check can be done to see if all ID values in the list are of length `5`."
   ]
  },
  {
   "cell_type": "code",
   "execution_count": 36,
   "metadata": {},
   "outputs": [],
   "source": [
    "job_id_bool = [\n",
    "    True\n",
    "    if len(val) == 5\n",
    "    else\n",
    "        False\n",
    "    for val in job_ids\n",
    "]"
   ]
  },
  {
   "cell_type": "code",
   "execution_count": 37,
   "metadata": {},
   "outputs": [
    {
     "data": {
      "text/plain": [
       "True"
      ]
     },
     "execution_count": 37,
     "metadata": {},
     "output_type": "execute_result"
    }
   ],
   "source": [
    "all(job_id_bool)"
   ]
  },
  {
   "cell_type": "markdown",
   "metadata": {},
   "source": [
    "The [$all()$](https://docs.python.org/3.6/library/functions.html#all) (Python Software Foundation, 2018) routine returns __True__ if all the values in the list are __True__. If any value turns out to be __False__, then __False__ is returned.\n",
    "\n",
    "Thus using the $all()$ routine it can be concluded that all job ids within the dataset are of length `5`"
   ]
  },
  {
   "cell_type": "markdown",
   "metadata": {},
   "source": [
    "Converting the job ids from `str` into `int`"
   ]
  },
  {
   "cell_type": "code",
   "execution_count": 38,
   "metadata": {},
   "outputs": [],
   "source": [
    "job_id_int = [\n",
    "    int(val)\n",
    "    for val in job_ids\n",
    "]"
   ]
  },
  {
   "cell_type": "code",
   "execution_count": 39,
   "metadata": {},
   "outputs": [
    {
     "name": "stdout",
     "output_type": "stream",
     "text": [
      "Total job ids captured: 32474\n"
     ]
    }
   ],
   "source": [
    "print(\"Total job ids captured: {}\".format(len(job_id_int)))"
   ]
  },
  {
   "cell_type": "markdown",
   "metadata": {},
   "source": [
    "### 6.2 Job Procedure:"
   ]
  },
  {
   "cell_type": "markdown",
   "metadata": {},
   "source": [
    "Getting a list of possible feature names for `Job Procedure`"
   ]
  },
  {
   "cell_type": "code",
   "execution_count": 40,
   "metadata": {},
   "outputs": [
    {
     "name": "stdout",
     "output_type": "stream",
     "text": [
      "to process\n",
      "JOB_PROCS\n",
      "Related processes\n",
      "PROCEDURE\n",
      "sales process\n",
      "Procurement\n",
      "procurement\n",
      "company procedures\n",
      "transformation processes\n",
      "and procedures\n",
      "process discipline\n",
      "Procurement Division\n",
      "recruitment processes\n",
      "procurements of\n",
      "Process management\n",
      "and Procedures\n",
      "repair processes\n",
      "JOB_PROC\n",
      "Process Expertise\n",
      "the process\n",
      "bussing procedures\n",
      "processes including\n",
      "planning process\n",
      "Procurement Activities\n",
      "following processes\n",
      "performed processes\n",
      "PROCEDURES\n",
      "standard process\n",
      "procedure\n",
      "budget process\n",
      "procurement procedures\n",
      "Procedures govern\n",
      "administrative procurement\n",
      "Transformation Processes\n",
      "Assurance processes\n",
      "procedures\n",
      "process\n",
      "Agile processes\n",
      "collection process\n",
      "HR procedures\n",
      "Procedures\n",
      "Improvement Process\n"
     ]
    }
   ],
   "source": [
    "find_feature_names([\"proc\", \"procedure\"], possible_features)"
   ]
  },
  {
   "cell_type": "markdown",
   "metadata": {},
   "source": [
    "Possible feature names could be:\n",
    "1. JOB_PROC\n",
    "2. PROCEDURE\n",
    "3. PROCEDURES\n",
    "4. JOB_PROCS\n",
    "5. procedures\n",
    "7. procedure\n",
    "6. Procedures"
   ]
  },
  {
   "cell_type": "markdown",
   "metadata": {},
   "source": [
    "__Analysis:__\n",
    "\n",
    "1. Multiline feature\n",
    "2. Followed by Application Deadline in majority cases.\n",
    "\n",
    "Based on these observations, a regular expression for Job Procedures would be:"
   ]
  },
  {
   "cell_type": "code",
   "execution_count": 41,
   "metadata": {},
   "outputs": [],
   "source": [
    "job_procedure_re = r\"(?:(?:JOB_PROCS?)|(?:PROCEDURES?))((?:.*\\n)*?)(?:(?:DEAD_LINE)|(?:APPLICATION_DL)|(?:APPLICATION_DEADL))\""
   ]
  },
  {
   "cell_type": "code",
   "execution_count": 42,
   "metadata": {},
   "outputs": [],
   "source": [
    "job_procedures = [\n",
    "    re.findall(job_procedure_re, val)[0]\n",
    "    if len(re.findall(job_procedure_re, val)) > 0\n",
    "    else\n",
    "        None\n",
    "    for val in sample_job_lists\n",
    "]"
   ]
  },
  {
   "cell_type": "code",
   "execution_count": 43,
   "metadata": {},
   "outputs": [
    {
     "name": "stdout",
     "output_type": "stream",
     "text": [
      "4\n"
     ]
    }
   ],
   "source": [
    "print(len(job_procedures))"
   ]
  },
  {
   "cell_type": "markdown",
   "metadata": {},
   "source": [
    "The regular expression has extracted the `Job procedures` from the sample dataset, displaying a single entry to validate the result. "
   ]
  },
  {
   "cell_type": "code",
   "execution_count": 44,
   "metadata": {},
   "outputs": [
    {
     "name": "stdout",
     "output_type": "stream",
     "text": [
      ": Please submit your resumes to:http://tbe.taleo.net/NA6/ats/careers/requisition.jsp?org=QUESTRADE&cws=1&rid=223\n",
      "Please clearly mention in your application letter that you learned of\n",
      "this job opportunity through Career Center and mention the URL of its\n",
      "website - www.careercenter.am, Thanks.\n",
      "\n"
     ]
    }
   ],
   "source": [
    "print(job_procedures[0])"
   ]
  },
  {
   "cell_type": "markdown",
   "metadata": {},
   "source": [
    "There is an error, in the above text:\n",
    "\n",
    "- `:` has been included as a part of the procedure, which must be removed."
   ]
  },
  {
   "cell_type": "markdown",
   "metadata": {},
   "source": [
    "1. The regular expression also seems to be a bit position dependent (i.e. the value of Job procedure would always be above application deadline). \n",
    "\n",
    "On having a manual lookup of the dataset, a unique pattern can be formed, that is each Job procedure if present, ends with the line: \n",
    "```\n",
    "Please clearly mention in your application letter that you learned of\n",
    "this job opportunity through Career Center and mention the URL of its\n",
    "website - www.careercenter.am, Thanks.\n",
    "```\n",
    "\n",
    "This is a repeated line, hence can be used as a stopping point for each job procedure.\n",
    "\n",
    "2. After the lookup it was also evident that the identifier for Job Procedures is not always JOB_PROCS or PROCEDURES, there are cases when it is denoted using lower case characters. To cover the particular case and to create a generalized regular expression, the re would just include `PROC` in both upper and lower case, since it is the common term.\n",
    "\n",
    "Thus modifying the regular expression based on the above arguments."
   ]
  },
  {
   "cell_type": "code",
   "execution_count": 45,
   "metadata": {},
   "outputs": [],
   "source": [
    "job_procedure_re = r\"(?:(?:(?:PROC)|(?:proc)).*?: )((?:.*\\n)*?.*Thanks\\.)\""
   ]
  },
  {
   "cell_type": "code",
   "execution_count": 46,
   "metadata": {},
   "outputs": [],
   "source": [
    "job_procedures = [\n",
    "    re.findall(job_procedure_re, val)[0]\n",
    "    if len(re.findall(job_procedure_re, val)) > 0\n",
    "    else\n",
    "        None\n",
    "    for val in sample_job_lists\n",
    "]"
   ]
  },
  {
   "cell_type": "code",
   "execution_count": 47,
   "metadata": {},
   "outputs": [
    {
     "name": "stdout",
     "output_type": "stream",
     "text": [
      "Please submit your resumes to:http://tbe.taleo.net/NA6/ats/careers/requisition.jsp?org=QUESTRADE&cws=1&rid=223\n",
      "Please clearly mention in your application letter that you learned of\n",
      "this job opportunity through Career Center and mention the URL of its\n",
      "website - www.careercenter.am, Thanks.\n"
     ]
    }
   ],
   "source": [
    "print(job_procedures[0])"
   ]
  },
  {
   "cell_type": "markdown",
   "metadata": {},
   "source": [
    "The result appears to be correct. However for the regular expression instead of using the `|` (or) separator, we can use `[]` to use as a character set for the string `PROC` or `proc`."
   ]
  },
  {
   "cell_type": "code",
   "execution_count": 48,
   "metadata": {},
   "outputs": [],
   "source": [
    "job_procedure_re = r\"(?:(?:[pP][rR][oO][cC]).*?: )((?:.*\\n)*?.*Thanks\\.)\""
   ]
  },
  {
   "cell_type": "markdown",
   "metadata": {},
   "source": [
    "Using the above regular expression on the actual dataset.\n",
    "\n",
    "The code snippet below uses `if-else` construct within list comprehension, to include all job procedures if captured else using `None` for missing values to maintain the indexing."
   ]
  },
  {
   "cell_type": "code",
   "execution_count": 49,
   "metadata": {},
   "outputs": [],
   "source": [
    "job_procedures = [\n",
    "    re.findall(job_procedure_re, val)[0]\n",
    "    if len(re.findall(job_procedure_re, val)) > 0\n",
    "    else\n",
    "        None\n",
    "    for val in all_job_lists\n",
    "]"
   ]
  },
  {
   "cell_type": "code",
   "execution_count": 50,
   "metadata": {},
   "outputs": [
    {
     "name": "stdout",
     "output_type": "stream",
     "text": [
      "32474\n"
     ]
    }
   ],
   "source": [
    "print(len(job_procedures))"
   ]
  },
  {
   "cell_type": "markdown",
   "metadata": {},
   "source": [
    "Checking which indices are `None`. So that a manual verification can be done."
   ]
  },
  {
   "cell_type": "code",
   "execution_count": 51,
   "metadata": {},
   "outputs": [
    {
     "name": "stdout",
     "output_type": "stream",
     "text": [
      "[34, 47, 62]\n",
      "[12999, 13005, 13020, 13023, 13078]\n",
      "[32432, 32441, 32448]\n"
     ]
    }
   ],
   "source": [
    "print([index for index, val in enumerate(job_procedures) if val == None][2:5])\n",
    "print([index for index, val in enumerate(job_procedures) if val == None][1000:1005])\n",
    "print([index for index, val in enumerate(job_procedures) if val == None][-3:])"
   ]
  },
  {
   "cell_type": "code",
   "execution_count": 52,
   "metadata": {},
   "outputs": [
    {
     "name": "stdout",
     "output_type": "stream",
     "text": [
      "ID: 60237\n",
      "DEADLINES: 20 January 2006\n",
      "start_date: 09 July 2015\n",
      "LOCATIONS: Yerevan, Armenia\n",
      "REQUIRED QUALIFICATIONS:\n",
      " - University degree; \n",
      "- At least 2 senior level experience in SME Lending in internationally\n",
      "co-funded programs (EBRD, KFW, GAF, etc.); \n",
      "- Excellent knowledge of relevant legal and regulatory aspects;\n",
      "- Excellent knowledge of national accounting standards;\n",
      "- Strong analytical and problem solving skills; \n",
      "- Strong interpersonal skills;\n",
      "- Organizational skills and great team player; \n",
      "- Ability to work under pressure; \n",
      "- Readiness for extensive countrywide travel;\n",
      "- Excellent knowledge of Russian and/ or English languages (oral and\n",
      "written).\n",
      "COMPANYS_INFO:\n",
      " UniCAD is a software start-up company specialized in the\n",
      "development of Electronic Design Automation (EDA) CAD tools, which is\n",
      "located in Yerevan, Armenia. UniCAD is a fully owned subsidiary of\n",
      "E-Z-CAD that is situated in the heart of Silicon Valley in Mountain\n",
      "View, CA, USA.\n",
      "SALARY: According to the \"\"S\"\" grade of the bank's\n",
      "remuneration scheme (100,000 to 2,000,000 AMD).\n",
      "JOB DESCRIPTION: Whether youre just getting started, already know\n",
      "English and want to improve your skills, want to prepare for an exam or\n",
      "test, you can find the right course here. Our instructors help students\n",
      "learn English with most innovative methods.\n",
      "Career Center announces below mentioned English Language Courses:\n",
      "GENERAL ENGLISH COURSE (consisting a total of 6 levels with the duration\n",
      "of 3 months each):\n",
      "- Beginner;\n",
      "- Elementary;\n",
      "- Pre-Intermediate;\n",
      "- Intermediate;\n",
      "- Upper-Intermediate;\n",
      "- Advanced (Final).\n",
      "SPECIALIZED COURSES (consisting a total of 3 levels with the duration of\n",
      "3 months each):\n",
      "- Business English - Pre-Intermediate\n",
      "- Business English - Intermediate\n",
      "- Business English - Upper-Intermediate (Final).\n",
      "Business English Courses also cover Special Business Writing and\n",
      "Communication Classes.\",NA,NA,NA,NA,\"All interested candidates should visit Career\n",
      "Center office and register as a member on Mondays - Fridays, from 9:00 -\n",
      "17:30. \n",
      "Monthly membership fee for all English language courses is 28,000 AMD.\n",
      "Please note that the complete fee of any level should be paid at the time\n",
      "of starting the classes.\n",
      "Registered students will pass a written placement test accompanied with\n",
      "oral interview and be placed with a relevant group.\n",
      "Registrations are not accepted by e-mail or telephone. For additional\n",
      "inquiries on registration or courses please contact us using below\n",
      "contact information.\n",
      "Please clearly mention in your application letter that you learned of\n",
      "this training opportunity through Career Center and mention the URL of\n",
      "its website - www.careercenter.am, Thanks.\",\"22 January 2015\",\"Rolling (Groups start their classes as soon as\n",
      "there are 4-6 people).\",\"When visiting our office for registration, please plan\n",
      "to spend about 30 minutes to take the language proficiency test.\",\"Career Center NGO\n",
      "Phone/Fax: +(374 10) 560328\n",
      "E-mail: mailbox@... \n",
      "Web site: www.careercenter.am \n",
      "Address: 25 Abovyan Str., (next to the School named after Pushkin)\n",
      "Yerevan, Armenia\n",
      "RESPONSIBILITY:\n",
      " - Develop partnership with the corporate sector;\n",
      "- Organize sales of B2B products to legal entities (SME/ SoHo segment);\n",
      "- Gather and analyze data to identify customer needs, as well as prepare\n",
      "commercial offers to fulfill customers' expectations;\n",
      "- Conduct day-to-day meetings and ensure presentation of corporate\n",
      "products to customers;\n",
      "- Responsible for customers' account management;\n",
      "- Responsible for achieving KPIs.\n",
      "------------------------------\n"
     ]
    }
   ],
   "source": [
    "print(all_job_lists[32448])"
   ]
  },
  {
   "cell_type": "markdown",
   "metadata": {},
   "source": [
    "### 6.3 Job Title:"
   ]
  },
  {
   "cell_type": "markdown",
   "metadata": {},
   "source": [
    "__Not performing checks on the sample dataset from here on, since the execution speed for the actual dataset is manageable.__"
   ]
  },
  {
   "cell_type": "markdown",
   "metadata": {},
   "source": [
    "Getting a list of possible feature names for `Job Titles`"
   ]
  },
  {
   "cell_type": "code",
   "execution_count": 53,
   "metadata": {},
   "outputs": [
    {
     "name": "stdout",
     "output_type": "stream",
     "text": [
      "Supervisors Title\n",
      "TITLES\n",
      "title\n",
      "report outlining\n",
      "JOB TITLE\n",
      "Resettlement\n",
      "JOB_T\n",
      "cattle breeding\n",
      "title to\n",
      "of outlets\n",
      "Resettlement projects\n",
      "strictly to\n",
      "_TTL\n",
      "directly to\n"
     ]
    }
   ],
   "source": [
    "find_feature_names([\"tl\", \"_t\"], possible_features)"
   ]
  },
  {
   "cell_type": "markdown",
   "metadata": {},
   "source": [
    "From the above list the variations for `Job Title` possible are:\n",
    "1. JOB_T\n",
    "2. \\_TTL\n",
    "3. title\n",
    "4. TITLES\n",
    "5. JOB TITLE"
   ]
  },
  {
   "cell_type": "markdown",
   "metadata": {},
   "source": [
    "__Analysis:__\n",
    "\n",
    "1. Single Line Feature. Therefore not many checks need to be made.\n",
    "\n",
    "Based on these observations, a regular expression for Job Procedures would be:"
   ]
  },
  {
   "cell_type": "code",
   "execution_count": 54,
   "metadata": {},
   "outputs": [],
   "source": [
    "job_title_re = r\"(?:(?:(?:_T.*)|(?:(?:JOB )?[tT][iI][tT][lL][eE][S]?)): )(.*)\""
   ]
  },
  {
   "cell_type": "markdown",
   "metadata": {},
   "source": [
    "__Regular Expression used:__ `(?:(?:(?:_T.*)|(?:(?:JOB )?[tT][iI][tT][lL][eE][S]?)): )(.*)` <br/>\n",
    "__Explanation:__ \n",
    "\n",
    "- Match strings with the optional strings characters containing either (`_T`) or (`JOB ` followed by the string `TITLE` or `TITLES` in both alphabet cases).\n",
    "- Since `JOB ` and the last `S` are optional the __re__ also matches the name `title`.\n",
    "- Matching all characters thereafter within the same line using the expression `(.*)`, to capture the `Job Title` for the listing."
   ]
  },
  {
   "cell_type": "code",
   "execution_count": 55,
   "metadata": {},
   "outputs": [],
   "source": [
    "job_titles = [\n",
    "    re.findall(job_title_re, val)[0]\n",
    "    if len(re.findall(job_title_re, val)) > 0\n",
    "    else\n",
    "        None\n",
    "    for val in all_job_lists\n",
    "]"
   ]
  },
  {
   "cell_type": "code",
   "execution_count": 56,
   "metadata": {},
   "outputs": [
    {
     "data": {
      "text/plain": [
       "32474"
      ]
     },
     "execution_count": 56,
     "metadata": {},
     "output_type": "execute_result"
    }
   ],
   "source": [
    "len(job_titles)"
   ]
  },
  {
   "cell_type": "markdown",
   "metadata": {},
   "source": [
    "Finding the indices for job titles which have value `None`, and performing manual validation."
   ]
  },
  {
   "cell_type": "code",
   "execution_count": 57,
   "metadata": {},
   "outputs": [
    {
     "name": "stdout",
     "output_type": "stream",
     "text": [
      "[46, 72, 76]\n",
      "[14002, 14022, 14031, 14038, 14051]\n",
      "[32428, 32448, 32456]\n"
     ]
    }
   ],
   "source": [
    "print([index for index, val in enumerate(job_titles) if val == None][2:5])\n",
    "print([index for index, val in enumerate(job_titles) if val == None][1000:1005])\n",
    "print([index for index, val in enumerate(job_titles) if val == None][-3:])"
   ]
  },
  {
   "cell_type": "markdown",
   "metadata": {},
   "source": [
    "Total empty values in all listings."
   ]
  },
  {
   "cell_type": "code",
   "execution_count": 58,
   "metadata": {},
   "outputs": [
    {
     "data": {
      "text/plain": [
       "2282"
      ]
     },
     "execution_count": 58,
     "metadata": {},
     "output_type": "execute_result"
    }
   ],
   "source": [
    "len([_ for val in job_titles if val == None])"
   ]
  },
  {
   "cell_type": "code",
   "execution_count": 59,
   "metadata": {},
   "outputs": [
    {
     "name": "stdout",
     "output_type": "stream",
     "text": [
      "ID: 40386\n",
      "JOB_PROCS: All qualified and interested candidates should\n",
      "submit their CVs/ resumes to: jobs.armenia@... . Please mention\n",
      "\"\"JobID 0214\"\" in the subject line of the email. Only shortlisted\n",
      "candidates will be notified for the interview.\n",
      "Please clearly mention in your application letter that you learned of\n",
      "this job opportunity through Career Center and mention the URL of its\n",
      "website - www.careercenter.am, Thanks.\n",
      "DEAD_LINE: 25 April 2007\n",
      "START DATE: 12 April 2011\n",
      "LOCATION: Yerevan, Armenia\n",
      "REQUIRED QUALIFICATIONS:\n",
      " - University degree in Finance, Economics or Accounting;\n",
      "- Minimum 3 years of work experience in accounting; \n",
      "- Good knowledge of RA Legislation on Taxation and accounting\n",
      "standards;\n",
      "- Knowledge of accounting software;\n",
      "- Fluency in English language is a plus;\n",
      "- Awareness of details, accuracy and reliability;\n",
      "- Good analytical and organizational skills;\n",
      "- Excellent communication skills.\n",
      "ABOUT:\n",
      " \"\"Youth For Achievements\"\" is an educational NGO created\n",
      "with the mission to promote ideas of democracy, human rights and\n",
      "humanism and operates in Armenia since 1994. The organization implements\n",
      "a wide range of projects mainly in the fields of education, human rights\n",
      "and civil society development. For additional details about the\n",
      "organization and the project itself visit: www.yfa.am or www.debates.am.\n",
      "remuneration: Competitive salary plus bonus programs and\n",
      "professional development opportunities.\n",
      "JOB DESCRIPTION: N/A\n",
      "RESP:\n",
      " - Handle calls and office correspondence;\n",
      "- Translate and edit office documentation;\n",
      "- Coordinate office transportation;  \n",
      "- Assist the Managing Director and department heads;\n",
      "- Book hotels and air-tickets; \n",
      "- Provide facsimile and xerox services;\n",
      "- Perform other related duties as assigned.\n",
      "------------------------------\n"
     ]
    }
   ],
   "source": [
    "print(all_job_lists[32456])"
   ]
  },
  {
   "cell_type": "markdown",
   "metadata": {},
   "source": [
    "### 6.4 Job Location:"
   ]
  },
  {
   "cell_type": "markdown",
   "metadata": {},
   "source": [
    "Getting a list of possible feature names for `Job Location`"
   ]
  },
  {
   "cell_type": "code",
   "execution_count": 60,
   "metadata": {},
   "outputs": [
    {
     "name": "stdout",
     "output_type": "stream",
     "text": [
      "local fundraising\n",
      "Local Levels\n",
      "Job location\n",
      "LOCATIONS\n",
      "locations\n",
      "local legislation\n",
      "LOCATION\n",
      "JOB_LOC\n",
      "_LOCS\n",
      "_LOC\n",
      "located at\n",
      "local requirements\n",
      "Local Partners\n",
      "local levels\n",
      "local website\n"
     ]
    }
   ],
   "source": [
    "find_feature_names([\"loc\"], possible_features)"
   ]
  },
  {
   "cell_type": "markdown",
   "metadata": {},
   "source": [
    "From the above list the variations for `Job Location` possible are:\n",
    "1. JOB_LOC\n",
    "2. LOCATION\n",
    "3. \\_LOC\n",
    "4. LOCATIONS\n",
    "5. \\_LOCS\n",
    "6. Job location\n",
    "7. locations"
   ]
  },
  {
   "cell_type": "markdown",
   "metadata": {},
   "source": [
    "__Analysis:__\n",
    "\n",
    "1. Single Line Feature. Therefore not many checks need to be made.\n",
    "2. Every variation of the feature name that includes the string `loc` which can be used as a part of the __re__.\n",
    "\n",
    "Based on these observations, a regular expression for Job Locations would be:"
   ]
  },
  {
   "cell_type": "code",
   "execution_count": 61,
   "metadata": {},
   "outputs": [],
   "source": [
    "location_re = r\"(?:(?:[lL][oO][cC]).*: )(.*)\""
   ]
  },
  {
   "cell_type": "markdown",
   "metadata": {},
   "source": [
    "__Regular Expression used:__ `(?:(?:[lL][oO][cC]).*: )(.*)` <br/>\n",
    "__Explanation:__ \n",
    "\n",
    "- Match strings containing `LOC` in both alphabetical cases as a part of the string followed by all characters till the last occurence of `: `\n",
    "- Matching all characters thereafter within the same line using the expression `(.*)`, to capture the `Job Locations` for the listing."
   ]
  },
  {
   "cell_type": "code",
   "execution_count": 62,
   "metadata": {},
   "outputs": [],
   "source": [
    "job_locations = [\n",
    "    re.findall(location_re, val)[0]\n",
    "    if len(re.findall(location_re, val)) > 0\n",
    "    else\n",
    "        None\n",
    "    for val in all_job_lists\n",
    "]"
   ]
  },
  {
   "cell_type": "code",
   "execution_count": 63,
   "metadata": {},
   "outputs": [
    {
     "data": {
      "text/plain": [
       "32474"
      ]
     },
     "execution_count": 63,
     "metadata": {},
     "output_type": "execute_result"
    }
   ],
   "source": [
    "len(job_locations)"
   ]
  },
  {
   "cell_type": "markdown",
   "metadata": {},
   "source": [
    "Finding the indices for job titles which have value `None`, and performing manual validation."
   ]
  },
  {
   "cell_type": "code",
   "execution_count": 64,
   "metadata": {},
   "outputs": [
    {
     "name": "stdout",
     "output_type": "stream",
     "text": [
      "[40, 48, 54]\n",
      "[14584, 14598, 14601, 14607, 14611]\n",
      "[32408, 32424, 32429]\n"
     ]
    }
   ],
   "source": [
    "print([index for index, val in enumerate(job_locations) if val == None][2:5])\n",
    "print([index for index, val in enumerate(job_locations) if val == None][1000:1005])\n",
    "print([index for index, val in enumerate(job_locations) if val == None][-3:])"
   ]
  },
  {
   "cell_type": "markdown",
   "metadata": {},
   "source": [
    "Total empty values in all listings."
   ]
  },
  {
   "cell_type": "code",
   "execution_count": 65,
   "metadata": {},
   "outputs": [
    {
     "data": {
      "text/plain": [
       "2290"
      ]
     },
     "execution_count": 65,
     "metadata": {},
     "output_type": "execute_result"
    }
   ],
   "source": [
    "len([_ for val in job_locations if val == None])"
   ]
  },
  {
   "cell_type": "markdown",
   "metadata": {},
   "source": [
    "Validating some cases for `None` values in the list."
   ]
  },
  {
   "cell_type": "code",
   "execution_count": 66,
   "metadata": {},
   "outputs": [
    {
     "name": "stdout",
     "output_type": "stream",
     "text": [
      "ID: 93906\n",
      "procedures: A complete application form should consist of a\n",
      "letter of motivation and a full CV. Applications can be submitted by\n",
      "e-mail to: mlnpharm@... . Please indicate the position applied\n",
      "for in the subject line. Incomplete or late applications will not be\n",
      "considered. Only short listed applicants will be contacted.\n",
      "Please clearly mention in your application letter that you learned of\n",
      "this job opportunity through Career Center and mention the URL of its\n",
      "website - www.careercenter.am, Thanks.\n",
      "DEAD_LINE: 17 December 2007\n",
      "TITLES: Head of Regional Sales Group, Corporate Sales Unit\n",
      "START DATE: 15 February 2012\n",
      "qualifications:\n",
      " - Higher education with major in marketing (MBA preferred);\n",
      "- Experience in marketing/ sales is preferable;\n",
      "- Excellent analytical skills;\n",
      "- Ability to work in a team;\n",
      "- Ability to work under pressure;\n",
      "- Strong organizational and interpersonal skills;\n",
      "- Good negotiation skills;\n",
      "- Good computer skills;\n",
      "- Fluent knowledge of English, Russian and Armenian languages.\n",
      "REMUNERATION/\n",
      "COMPANYS_INFO:\n",
      " \"\"Square One Restaurants\"\" is a chain of restaurants\n",
      "represented by Central Station LLC.\n",
      "SALARY: Competitive base salary, bonus programs, medical\n",
      "insurance, professional development opportunities and flexible benefits\n",
      "package.\n",
      "job_desc: Ucom LLC is seeking a successful candidate who will\n",
      "fulfill the position of PR Specialist.\n",
      "RESPONSIBILITY:\n",
      " - Develop applications using Microsoft Visual Basic and C;\n",
      "- Conduct on-going testing of own developed modules.\n",
      "------------------------------\n"
     ]
    }
   ],
   "source": [
    "print(all_job_lists[32429])"
   ]
  },
  {
   "cell_type": "markdown",
   "metadata": {},
   "source": [
    "### 6.5 Application Deadline:"
   ]
  },
  {
   "cell_type": "markdown",
   "metadata": {},
   "source": [
    "Getting a list of possible feature names for `Application Deadline`"
   ]
  },
  {
   "cell_type": "code",
   "execution_count": 67,
   "metadata": {
    "scrolled": true
   },
   "outputs": [
    {
     "name": "stdout",
     "output_type": "stream",
     "text": [
      "the deadline\n",
      "DEAD_LINE\n",
      "Initial deadline\n",
      "APPLICATION_DL\n",
      "deadline at\n",
      "deadline to\n",
      "APPLICATION_DEADL\n",
      "DEADLINES\n",
      "Incident Handling\n",
      "stated deadlines\n",
      "deadline\n",
      "kindly visit\n",
      "kindly call\n"
     ]
    }
   ],
   "source": [
    "find_feature_names([\"dl\", \"deadline\", \"dead\"], possible_features)"
   ]
  },
  {
   "cell_type": "markdown",
   "metadata": {},
   "source": [
    "From the above list the variations for `Application Deadline` possible feature names are:\n",
    "1. DEAD_LINE\n",
    "2. APPLICATION_DEADL\n",
    "3. APPLICATION_DL\n",
    "4. deadline\n",
    "5. DEADLINES"
   ]
  },
  {
   "cell_type": "markdown",
   "metadata": {},
   "source": [
    "__Analysis:__\n",
    "\n",
    "1. Single Line Feature. Therefore not many checks need to be made.\n",
    "2. Every variation of the feature name that includes the string `DL` or (`DEAD` in both alphabetical cases) which can be used as a part of the __re__.\n",
    "\n",
    "Based on these observations, a regular expression for `Application Deadline` would be:"
   ]
  },
  {
   "cell_type": "code",
   "execution_count": 68,
   "metadata": {},
   "outputs": [],
   "source": [
    "deadline_re = r\"(?:(?:(?:[dD][eE][aA][dD])|(?:DL)).*: )(.*)\""
   ]
  },
  {
   "cell_type": "markdown",
   "metadata": {},
   "source": [
    "__Regular Expression used:__ `(?:(?:(?:[dD][eE][aA][dD])|(?:DL)).*: )(.*)` <br/>\n",
    "__Explanation:__ \n",
    "\n",
    "- Match strings containing `DEAD` in both alphabetical cases or `DL` as a part of the string followed by all characters till the last occurence of `: `\n",
    "- Matching all characters thereafter within the same line using the expression `(.*)`, to capture the `Application Deadlines` for the listing."
   ]
  },
  {
   "cell_type": "code",
   "execution_count": 69,
   "metadata": {},
   "outputs": [],
   "source": [
    "job_deadlines = [\n",
    "    re.findall(deadline_re, val)[0]\n",
    "    if len(re.findall(deadline_re, val)) > 0\n",
    "    else\n",
    "        None\n",
    "    for val in all_job_lists\n",
    "]"
   ]
  },
  {
   "cell_type": "markdown",
   "metadata": {},
   "source": [
    "Total empty values in all listings."
   ]
  },
  {
   "cell_type": "code",
   "execution_count": 70,
   "metadata": {},
   "outputs": [
    {
     "data": {
      "text/plain": [
       "2242"
      ]
     },
     "execution_count": 70,
     "metadata": {},
     "output_type": "execute_result"
    }
   ],
   "source": [
    "len([_ for val in job_deadlines if val == None])"
   ]
  },
  {
   "cell_type": "markdown",
   "metadata": {},
   "source": [
    "Validating some cases for `None` values in the list."
   ]
  },
  {
   "cell_type": "code",
   "execution_count": 71,
   "metadata": {},
   "outputs": [
    {
     "name": "stdout",
     "output_type": "stream",
     "text": [
      "[42, 51, 74]\n",
      "[14688, 14697, 14703, 14739, 14748]\n",
      "[32447, 32450, 32463]\n"
     ]
    }
   ],
   "source": [
    "print([index for index, val in enumerate(job_deadlines) if val == None][2:5])\n",
    "print([index for index, val in enumerate(job_deadlines) if val == None][1000:1005])\n",
    "print([index for index, val in enumerate(job_deadlines) if val == None][-3:])"
   ]
  },
  {
   "cell_type": "code",
   "execution_count": 72,
   "metadata": {},
   "outputs": [
    {
     "name": "stdout",
     "output_type": "stream",
     "text": [
      "ID: 62067\n",
      "JOB_PROC: If you are interested in this position, please\n",
      "send your cover letter and CV to: job@....\n",
      "Please clearly mention in your application letter that you learned of\n",
      "this job opportunity through Career Center and mention the URL of its\n",
      "website - www.careercenter.am, Thanks.\n",
      "JOB_T: User Interface/ Web Designer\n",
      "START DATE/\n",
      "start_date: 19 December 2008\n",
      "_LOC: Yerevan, Armenia\n",
      "REQ_QUALS:\n",
      " - University degree in Management, Social Sciences, Technical Sciences or\n",
      "Economics; higher degree is a plus;\n",
      "- At least 5 years of professional experience in the field of energy\n",
      "efficiency and solid knowledge and understanding of the local residential\n",
      "buildings sector and industry;\n",
      "- Experience in housing finance and banking is an asset;\n",
      "- Experience in project cycle management with exposure to financial\n",
      "management;\n",
      "- Experience in coordinating stakeholders, consultants and other parties\n",
      "from designing to commissioning phase of the project;\n",
      "- Experience with facilitation of direct beneficiaries in decision making\n",
      "processes;\n",
      "- Ability to build and maintain trust and strong relationships with\n",
      "stakeholders, focusing on impact and results;\n",
      "- IT literacy, including MS Office;\n",
      "- Excellent written and spoken skills in Armenian and English languages;\n",
      "- Excellent communication skills and understanding of local contexts;\n",
      "- Capability for traveling and field work.\n",
      "ABOUT:\n",
      " Five UN agencies in the Republic of Armenia, UNHCR, UNDP,\n",
      "UNIDO, UNFPA and UNICEF, have jointly implemented the Sustainable\n",
      "Livelihood for Socially Vulnerable Refugees, Internally Displaced and\n",
      "Local Families project in Armenia. The project, funded by the United\n",
      "Nations Trust Fund for Human Security (UNTFHS), started on 1 April 2009\n",
      "and will end on 30 September 2012. The overall purpose of the project is\n",
      "to assist vulnerable families in reducing poverty through providing\n",
      "social housing, increasing their self-sustainability through income\n",
      "generation activities and access to diversified energy services,\n",
      "enhancing living conditions, health care services as well as improving\n",
      "educational opportunities, capacity building of direct beneficiaries and\n",
      "self-government bodies through provision of required training.  The\n",
      "implementation of this project will secure vulnerable peoples lives,\n",
      "livelihoods and dignity in the real life.\n",
      "SALARY: Based on experience and skills\n",
      "JOB_DESC: Administrative Assistant will work in Armenian\n",
      "representation of an Austrian industrial company.\n",
      "RESPONSIBILITY:\n",
      " - Coordinate real estate purchasing/selling and leasing/renting\n",
      "processes;\n",
      "- Present purchase offers to sellers for consideration;\n",
      "- Interview clients to determine what kinds of properties they are\n",
      "seeking;\n",
      "- Prepare documents such as representation contracts, purchase\n",
      "agreements, closing statements, deeds and leases;\n",
      "- Coordinate property closings, overseeing signing of documents and\n",
      "disbursement of funds;\n",
      "- Act as an intermediary in negotiations between buyers and sellers,\n",
      "generally representing one or the other;\n",
      "- Compare a property with similar properties that have recently sold in\n",
      "order to determine its competitive market price;\n",
      "- Coordinate appointments to show homes to prospective buyers; \n",
      "- Arrange meetings between buyers and sellers when details of\n",
      "transactions need to be negotiated;\n",
      "- Generate lists of properties that are compatible with buyers' needs and\n",
      "financial resources;\n",
      "- Advise sellers on how to make homes more appealing to potential\n",
      "buyers;\n",
      "- Supervise sales staff works.\n",
      "------------------------------\n"
     ]
    }
   ],
   "source": [
    "print(all_job_lists[32463])"
   ]
  },
  {
   "cell_type": "markdown",
   "metadata": {},
   "source": [
    "### 6.6 Start Dates"
   ]
  },
  {
   "cell_type": "markdown",
   "metadata": {},
   "source": [
    "Getting a list of possible feature names for `Job Start Date`"
   ]
  },
  {
   "cell_type": "code",
   "execution_count": 73,
   "metadata": {},
   "outputs": [
    {
     "name": "stdout",
     "output_type": "stream",
     "text": [
      "candidate must\n",
      "getting started\n",
      "Starting date\n",
      "START_DA\n",
      "START DATE\n",
      "DATE_START\n",
      "Starting salary\n",
      "DATES\n",
      "candidate to\n",
      "candidates should\n",
      "the candidate\n",
      "Candidates must\n",
      "Starting Salary\n",
      "be elucidated\n",
      "mandate to\n",
      "candidate should\n",
      "candidate will\n",
      "start_date\n"
     ]
    }
   ],
   "source": [
    "find_feature_names([\"start\", \"date\", \"dt\"], possible_features)"
   ]
  },
  {
   "cell_type": "markdown",
   "metadata": {},
   "source": [
    "From the above list the variations for `Job Start Date` possible feature names are:\n",
    "1. DATE_START\n",
    "2. START DATE\n",
    "3. START_DA\n",
    "4. DATES\n",
    "5. start_date"
   ]
  },
  {
   "cell_type": "markdown",
   "metadata": {},
   "source": [
    "__Analysis:__\n",
    "\n",
    "1. Single Line Feature, however some listings have multiple lines. \n",
    "2. Variations of the feature name that includes the string `_DA`, `DATE`(with an additional case of including `S`) can be used as a part of the __re__.\n",
    "\n",
    "Based on these observations, a regular expression for `Start Date` would be:"
   ]
  },
  {
   "cell_type": "markdown",
   "metadata": {},
   "source": [
    "__Assumption:__ `Start Date` would be captured only if it is a Date, else kept as `None`"
   ]
  },
  {
   "cell_type": "code",
   "execution_count": 74,
   "metadata": {},
   "outputs": [],
   "source": [
    "job_date_re = r\"(?:(?:(?:_DA)|(?:[dD][aA][tT][eE]S?)).*?: )(?=[0-9])(.*)\""
   ]
  },
  {
   "cell_type": "markdown",
   "metadata": {},
   "source": [
    "Adding an additional forward lookup, since dates must start with a numeric value"
   ]
  },
  {
   "cell_type": "code",
   "execution_count": 75,
   "metadata": {},
   "outputs": [],
   "source": [
    "job_dates = [\n",
    "    re.findall(job_date_re, val)[0]\n",
    "    if len(re.findall(job_date_re, val)) > 0\n",
    "    else\n",
    "        None\n",
    "    for val in all_job_lists\n",
    "]"
   ]
  },
  {
   "cell_type": "code",
   "execution_count": 76,
   "metadata": {},
   "outputs": [
    {
     "data": {
      "text/plain": [
       "2326"
      ]
     },
     "execution_count": 76,
     "metadata": {},
     "output_type": "execute_result"
    }
   ],
   "source": [
    "len([_ for val in job_dates if val == None])"
   ]
  },
  {
   "cell_type": "code",
   "execution_count": 77,
   "metadata": {},
   "outputs": [
    {
     "name": "stdout",
     "output_type": "stream",
     "text": [
      "[39, 60, 85]\n",
      "[14732, 14733, 14747, 14749, 14753]\n",
      "[32458, 32459, 32465]\n"
     ]
    }
   ],
   "source": [
    "print([index for index, val in enumerate(job_dates) if val == None][2:5])\n",
    "print([index for index, val in enumerate(job_dates) if val == None][1000:1005])\n",
    "print([index for index, val in enumerate(job_dates) if val == None][-3:])"
   ]
  },
  {
   "cell_type": "code",
   "execution_count": 78,
   "metadata": {},
   "outputs": [
    {
     "data": {
      "text/plain": [
       "13270"
      ]
     },
     "execution_count": 78,
     "metadata": {},
     "output_type": "execute_result"
    }
   ],
   "source": [
    "job_id_int.index(37202)"
   ]
  },
  {
   "cell_type": "code",
   "execution_count": 79,
   "metadata": {},
   "outputs": [
    {
     "data": {
      "text/plain": [
       "'02 July 2007'"
      ]
     },
     "execution_count": 79,
     "metadata": {},
     "output_type": "execute_result"
    }
   ],
   "source": [
    "job_dates[13270]"
   ]
  },
  {
   "cell_type": "code",
   "execution_count": 80,
   "metadata": {},
   "outputs": [
    {
     "name": "stdout",
     "output_type": "stream",
     "text": [
      "ID: 37202\n",
      "procedures: All interested candidates are requested to\n",
      "submit the cover letter and CV to: office@..., with obligatory copy\n",
      "to anahit@.... Please write in the subject: Application for (name\n",
      "position), Armenia  and your full name.\n",
      "It is strongly recommended that all candidates visit website of Heifer\n",
      "International www.heifer.org and www.hpi.am prior to applying for the\n",
      "position.  \n",
      "Short-list candidates will be invited for interviews in the Heifer\n",
      "Armenia office between May 14 and 25. Time for interviews will be\n",
      "announced while contacting the short-list candidates. \n",
      "Starting date: to be discussed with successful candidates, but no later\n",
      "than July 1, 2007.\n",
      "Please clearly mention in your application letter that you learned of\n",
      "this job opportunity through Career Center and mention the URL of its\n",
      "website - www.careercenter.am, Thanks.\n",
      "APPLICATION_DL: 10 August 2013\n",
      "JOB_T: Radio Engineer\n",
      "DATE_START: 02 July 2007\n",
      "LOCATION: Yerevan, Armenia\n",
      "REQUIRED QUALIFICATIONS:\n",
      " Corporate Competencies:\n",
      "- Ability to demonstrate integrity by modelling the UNs values and\n",
      "ethical standards;\n",
      "- Ability to promote the vision, mission, and strategic goals of UNDP;\n",
      "- Ability to displays cultural, gender, religion, race, nationality and\n",
      "age sensitivity and adaptability;\n",
      "- Ability to treat all people fairly without favouritism.\n",
      "Functional Competencies:\n",
      "Knowledge Management and Learning\n",
      "- Ability to promote a knowledge sharing and learning culture in the\n",
      "office;\n",
      "- In-depth knowledge on development issues;\n",
      "- Ability to advocate and provide policy advice;\n",
      "- Ability to actively work towards continuing personal learning and\n",
      "development in one or more Practice Areas,  and act on learning plan and\n",
      "apply newly acquired skills.\n",
      "Development and Operational Effectiveness\n",
      "- Ability to lead strategic planning, results-based management and\n",
      "reporting;\n",
      "- Ability to lead formulation, implementation, monitoring and evaluation\n",
      "of development programmes and projects, mobilize resources;\n",
      "- Strong IT skills;\n",
      "- Ability to lead implementation of new systems (business side), and\n",
      "affect staff behavioural/ attitudinal change.\n",
      "Management and Leadership\n",
      "- Ability to focus on impact and result for the client and respond\n",
      "positively to feedback;\n",
      "- Ability to lead teams effectively and show conflict resolution\n",
      "skills;\n",
      "- Ability to consistently approach work with energy and a positive,\n",
      "constructive attitude;\n",
      "- Strong oral and written communication skills;\n",
      "- Ability to build strong relationships with clients and external\n",
      "actors;\n",
      "- Ability to remain calm, in control and good humoured even under\n",
      "pressure; \n",
      "- Openness to change and ability to manage complexities.\n",
      "Required Skills and Experience\n",
      "- Advanced degree in environmental policy, public administration,\n",
      "biodiversity conservation or other related fields;\n",
      "- 5 years of related professional experience at national or\n",
      "international level; intensive experience in programme/ project\n",
      "planning, design and management;\n",
      "- Good understanding of the development, legislation and institutional\n",
      "framework related to the environmental policy and particularly in\n",
      "Protected Areas;\n",
      "- Good understanding of the links between sustainable resource\n",
      "management and community development;\n",
      "- Experience in negotiating with international donors and professional\n",
      "organizations.\n",
      "about_company:\n",
      " ProCredit Bank launched its activity in Armenia in\n",
      "February 5, 2008. It has a 100% foreign capital. ProCredit Bank has 9\n",
      "branches, 6 of which in Yerevan and 3 in regions of Armenia.\n",
      "REMUNERATION: $800+\n",
      "DESCRIPTION: N/A\n",
      "------------------------------\n"
     ]
    }
   ],
   "source": [
    "print(all_job_lists[13270])"
   ]
  },
  {
   "cell_type": "markdown",
   "metadata": {},
   "source": [
    "### 6.7. Job Responsibilities:"
   ]
  },
  {
   "cell_type": "markdown",
   "metadata": {},
   "source": [
    "Considering Job Responsibility as the next feature since it is the last feature pattern in each job listing and thus the ending `----` sequence can be used for identification purposes."
   ]
  },
  {
   "cell_type": "markdown",
   "metadata": {},
   "source": [
    "Getting a list of possible feature names for `Job Responsibilities`"
   ]
  },
  {
   "cell_type": "code",
   "execution_count": 81,
   "metadata": {},
   "outputs": [
    {
     "name": "stdout",
     "output_type": "stream",
     "text": [
      "Assistants Responsibilities\n",
      "Responsibilities include\n",
      "Response Management\n",
      "Key Responsibilities\n",
      "JOB_RESPS\n",
      "Operational Responsibilities\n",
      "Cashier Responsibilities\n",
      "Budget responsibilities\n",
      "responsibilities include\n",
      "responsibilities are\n",
      "Doctor Responsibilities\n",
      "of responsibility\n",
      "wholly responsible\n",
      "Emergency Response\n",
      "Responsible for\n",
      "Secondary Responsibilities\n",
      "HR Responsibilities\n",
      "Key responsibilities\n",
      "RESP\n",
      "Other Responsibilities\n",
      "technical responsibilities\n",
      "General Responsibilities\n",
      "Other responsibilities\n",
      "responsible for\n",
      "s responsibilities\n",
      "following responsibilities\n",
      "Major Responsibilities\n",
      "response operations\n",
      "Administrative Responsibilities\n",
      "Primary Responsibilities\n",
      "responsibilities\n",
      "related responsibilities\n",
      "corresponding fields\n",
      "main responsibilities\n",
      "Assistant Responsibilities\n",
      "and Responsibilities\n",
      "Specific responsibilities\n",
      "General responsibilities\n",
      "Revenue responsibility\n",
      "RESPONSIBILITY\n",
      "responsibility to\n",
      "Specific Responsibilities\n",
      "corresponding policies\n",
      "respective changes\n",
      "JOB RESPONSIBILITIES\n"
     ]
    }
   ],
   "source": [
    "find_feature_names([\"resp\"], possible_features)"
   ]
  },
  {
   "cell_type": "markdown",
   "metadata": {},
   "source": [
    "From the above list the variations for `Job Responsibilities` possible feature names are:\n",
    "1. RESP\n",
    "2. JOB RESPONSIBILITIES\n",
    "3. JOB_RESPS\n",
    "4. RESPONSIBILITY"
   ]
  },
  {
   "cell_type": "markdown",
   "metadata": {},
   "source": [
    "__Analysis:__\n",
    "\n",
    "1. Multiline feature, last feature present in each listing. \n",
    "2. Variations of the feature name that includes the string `RESP` can be used as a part of the __re__.\n",
    "3. However there is one exception, there is a feature name `responsibilities`, which needs to be individually selected and must not be preceded by a space. (this can be achieved using negative look behind) \n",
    "\n",
    "Based on these observations, a regular expression for `Job Responsibility` would be:"
   ]
  },
  {
   "cell_type": "code",
   "execution_count": 82,
   "metadata": {},
   "outputs": [],
   "source": [
    "job_responsibility_re = r\"(?:(?:(?:(?:RESP).*)|(?:(?<![ ])responsibilities)):)((?:.*\\n)*?)(?=---+)\""
   ]
  },
  {
   "cell_type": "markdown",
   "metadata": {},
   "source": [
    "__Regular Expression used:__ `(?:(?:(?:(?:RESP).*)|(?:(?<![ ])responsibilities)):)((?:.*\\n)*?)(?=---+)` <br/>\n",
    "__Explanation:__ \n",
    "\n",
    "- Match strings containing `RESP` as a part of the string followed by all characters till the last occurence of `: `\n",
    "- Consideration was also taken for the feature name `responsibilities` which has been preceded with a negative look behind for negating ` `. This has been done to prevent capturing groups like `General responsibilities`.\n",
    "- Matching all characters thereafter within the same line using the expression `(.*\\n)*`\n",
    "- The end for each feature value is found using the `---` sequence since it is the last feature."
   ]
  },
  {
   "cell_type": "code",
   "execution_count": 83,
   "metadata": {},
   "outputs": [],
   "source": [
    "job_responsibility = [\n",
    "    re.findall(job_responsibility_re, val)[0]\n",
    "    if len(re.findall(job_responsibility_re, val)) > 0\n",
    "    else\n",
    "        None\n",
    "    for val in all_job_lists\n",
    "]"
   ]
  },
  {
   "cell_type": "code",
   "execution_count": 84,
   "metadata": {},
   "outputs": [
    {
     "data": {
      "text/plain": [
       "2324"
      ]
     },
     "execution_count": 84,
     "metadata": {},
     "output_type": "execute_result"
    }
   ],
   "source": [
    "len([_ for val in job_responsibility if val == None])"
   ]
  },
  {
   "cell_type": "code",
   "execution_count": 85,
   "metadata": {},
   "outputs": [
    {
     "name": "stdout",
     "output_type": "stream",
     "text": [
      "[11, 14, 88]\n",
      "[13567, 13568, 13581, 13644, 13668]\n",
      "[32406, 32430, 32431]\n"
     ]
    }
   ],
   "source": [
    "print([index for index, val in enumerate(job_responsibility) if val == None][2:5])\n",
    "print([index for index, val in enumerate(job_responsibility) if val == None][1000:1005])\n",
    "print([index for index, val in enumerate(job_responsibility) if val == None][-3:])"
   ]
  },
  {
   "cell_type": "code",
   "execution_count": 86,
   "metadata": {},
   "outputs": [
    {
     "name": "stdout",
     "output_type": "stream",
     "text": [
      "ID: 98709\n",
      "PROCEDURE: All interested and qualified candidates are\n",
      "encouraged to fill in the last updated version of HSBC Application Form\n",
      "attached to this announcement and email it to: vacancy.armenia@... .\n",
      "The old versions of application forms will not be reviewed. Only\n",
      "short-listed candidates will be invited for interviews. Please put on the\n",
      "subject line of the e-mail \"\"Branch Representative\"\".\n",
      "Please clearly mention in your application letter that you learned of\n",
      "this job opportunity through Career Center and mention the URL of its\n",
      "website - www.careercenter.am, Thanks.\n",
      "DEAD_LINE: 15 April 2007, 5:00 p.m.\n",
      "_TTL: Head of Internal Audit\n",
      "start_date: 25 January 2008\n",
      "LOCATION: Yerevan, Armenia\n",
      "REQUIRED QUALIFICATIONS:\n",
      " - University degree in Law; \n",
      "- At leas 1 year of work experience in the Central Bank or 2 years of\n",
      "work experience elsewhere;\n",
      "- Advanced knowledge of corporate, banking, labour, civil, civil\n",
      "procedures, constitutional, procurement, public tenders, currency, tax,\n",
      "international law, and legislation governing legal technique;\n",
      "- Fluent in Armenian, Russian and English languages;\n",
      "- Computer skills: MS Office, IRTEK, ARLIS.\n",
      "about_company:\n",
      " Habitat for Humanity is a nonprofit organization that\n",
      "welcomes to its work all people dedicated to the cause of eliminating\n",
      "poverty housing. Since its founding in the USA in 1976, Habitat has\n",
      "built more than 250,000 houses in nearly 90 countries, providing simple,\n",
      "decent and affordable shelter for more than one million people. Habitat\n",
      "has worked in Armenia since 2000 and has served over 400 families.\n",
      "See the website for more information: www.habitat.am.\n",
      "remuneration: Competitive\n",
      "------------------------------\n"
     ]
    }
   ],
   "source": [
    "print(all_job_lists[32431])"
   ]
  },
  {
   "cell_type": "markdown",
   "metadata": {},
   "source": [
    "Each responisibilty has multiple bullet points, thus seperating each bullet point, and storing it in a multidimensional list."
   ]
  },
  {
   "cell_type": "code",
   "execution_count": 87,
   "metadata": {},
   "outputs": [],
   "source": [
    "job_responsibility_ind = [\n",
    "    re.split(r\"- \", val)\n",
    "    if val is not None\n",
    "    else\n",
    "        None\n",
    "    for val in job_responsibility\n",
    "]"
   ]
  },
  {
   "cell_type": "markdown",
   "metadata": {},
   "source": [
    "Splitting of the individual bullet points has been done using the [re.split()](https://docs.python.org/3.6/library/re.html#re.split) (Python Software Foundation, 2018) method."
   ]
  },
  {
   "cell_type": "code",
   "execution_count": 88,
   "metadata": {},
   "outputs": [],
   "source": [
    "job_responsibility_ind = [\n",
    "    [\n",
    "        v.strip()\n",
    "        if val is not None\n",
    "        else\n",
    "            None\n",
    "        for v in val\n",
    "        if len(v.strip()) > 0\n",
    "    ]\n",
    "    if val is not None\n",
    "    else\n",
    "        []\n",
    "    for val in job_responsibility_ind\n",
    "]"
   ]
  },
  {
   "cell_type": "code",
   "execution_count": 89,
   "metadata": {},
   "outputs": [
    {
     "name": "stdout",
     "output_type": "stream",
     "text": [
      "\n",
      " - Attract potential clients;\n",
      "- Evaluate the credit risk of clients before the credit committee;\n",
      "- Prepare and present required reports and documentation to the credit\n",
      "committee;\n",
      "- Inform clients and guarantors on their rights and obligations;\n",
      "- Monitor client businesses to ensure the continuance ability to repay;\n",
      "- Ensure on time and correct payments;\n",
      "- Participate in classroom and on the job trainings.\n",
      "\n"
     ]
    }
   ],
   "source": [
    "print(job_responsibility[100])"
   ]
  },
  {
   "cell_type": "code",
   "execution_count": 90,
   "metadata": {},
   "outputs": [
    {
     "name": "stdout",
     "output_type": "stream",
     "text": [
      "['Attract potential clients;', 'Evaluate the credit risk of clients before the credit committee;', 'Prepare and present required reports and documentation to the credit\\ncommittee;', 'Inform clients and guarantors on their rights and obligations;', 'Monitor client businesses to ensure the continuance ability to repay;', 'Ensure on time and correct payments;', 'Participate in classroom and on the job trainings.']\n"
     ]
    }
   ],
   "source": [
    "print(job_responsibility_ind[100])"
   ]
  },
  {
   "cell_type": "markdown",
   "metadata": {},
   "source": [
    "### 6.8 Job Description"
   ]
  },
  {
   "cell_type": "markdown",
   "metadata": {},
   "source": [
    "Getting a list of possible feature names for `Job Description`"
   ]
  },
  {
   "cell_type": "code",
   "execution_count": 91,
   "metadata": {},
   "outputs": [
    {
     "name": "stdout",
     "output_type": "stream",
     "text": [
      "_description\n",
      "description languages\n",
      "JOB DESCRIPTION\n",
      "DESCRIPTION\n",
      "job_desc\n",
      "descriptions to\n",
      "JOB_DESC\n"
     ]
    }
   ],
   "source": [
    "find_feature_names([\"desc\"], possible_features)"
   ]
  },
  {
   "cell_type": "markdown",
   "metadata": {},
   "source": [
    "From the above list the variations for `Job Description` possible feature names are:\n",
    "1. JOB DESCRIPTION\n",
    "2. job_desc\n",
    "3. \\_description\n",
    "4. JOB_DESC\n",
    "5. DESCRIPTION"
   ]
  },
  {
   "cell_type": "markdown",
   "metadata": {},
   "source": [
    "__Analysis:__\n",
    "\n",
    "1. Multiline feature, second last feature present in each listing, because of which `Job Responsibility` can be used as the identifying marker for the ending, but at the same time since there are __`2324`__ null entries for `Job Responsibility`. The ending identifier must have `---` the sequence as well. \n",
    "2. Variations of the feature name that includes the string `DESC` can be used as a part of the __re__.\n",
    "3. However just using `DESC` variations are not sufficient since, there is a token `description languages` which might generate garbage values.\n",
    "To overcome this the keyword `JOB` could be as a preceding occurence, else it shouldn't be preceded by a ` ` (which can be achieved using a negative look behind)\n",
    "\n",
    "Based on these observations, a regular expression for `Job Responsibility` would be:"
   ]
  },
  {
   "cell_type": "code",
   "execution_count": 92,
   "metadata": {},
   "outputs": [],
   "source": [
    "job_description_re = r\"(?:(?:(?:(?:JOB )|(?<![ ]))[dD][eE][sS][cC]).*:)((?:.*\\n)*?)(?:(?:.*RESP.*:)|(?:[ ]responsibilities:)|(?:---+))\""
   ]
  },
  {
   "cell_type": "markdown",
   "metadata": {},
   "source": [
    "__Regular Expression used:__ \n",
    "\n",
    "`(?:(?:(?:(?:JOB )|(?<![ ]))[dD][eE][sS][cC]).*:)((?:.*\\n)*?)(?:(?:.*RESP.*:)|(?:[ ]responsibilities:)|(?:---+))` <br/>\n",
    "__Explanation:__ \n",
    "\n",
    "- Match strings containing `DESC` in both cases as a part of the string followed by all characters till the last occurence of `: `\n",
    "- As a part of deductions from the initial analysis, the keyword `JOB ` is searched before the occurence of any variation of `DESC`, if False then the negative look behind enters in and checks whether the sequence is not preceded by a ` `.\n",
    "- Matching all characters thereafter within the same line using the expression `(.*\\n)*`\n",
    "- The end for each feature value is found using the same regular expression used to find `Job Responsibilities` as mentioned in the initial analysis."
   ]
  },
  {
   "cell_type": "code",
   "execution_count": 93,
   "metadata": {},
   "outputs": [],
   "source": [
    "job_description = [\n",
    "    re.findall(job_description_re, val)[0]\n",
    "    if len(re.findall(job_description_re, val)) > 0\n",
    "    else\n",
    "        None\n",
    "    for val in all_job_lists\n",
    "]"
   ]
  },
  {
   "cell_type": "code",
   "execution_count": 94,
   "metadata": {},
   "outputs": [
    {
     "name": "stdout",
     "output_type": "stream",
     "text": [
      "[38, 55, 59]\n",
      "[14616, 14618, 14646, 14647, 14685]\n",
      "[32386, 32419, 32431]\n"
     ]
    }
   ],
   "source": [
    "print([index for index, val in enumerate(job_description) if val == None][2:5])\n",
    "print([index for index, val in enumerate(job_description) if val == None][1000:1005])\n",
    "print([index for index, val in enumerate(job_description) if val == None][-3:])"
   ]
  },
  {
   "cell_type": "code",
   "execution_count": 95,
   "metadata": {},
   "outputs": [
    {
     "name": "stdout",
     "output_type": "stream",
     "text": [
      "ID: 98709\n",
      "PROCEDURE: All interested and qualified candidates are\n",
      "encouraged to fill in the last updated version of HSBC Application Form\n",
      "attached to this announcement and email it to: vacancy.armenia@... .\n",
      "The old versions of application forms will not be reviewed. Only\n",
      "short-listed candidates will be invited for interviews. Please put on the\n",
      "subject line of the e-mail \"\"Branch Representative\"\".\n",
      "Please clearly mention in your application letter that you learned of\n",
      "this job opportunity through Career Center and mention the URL of its\n",
      "website - www.careercenter.am, Thanks.\n",
      "DEAD_LINE: 15 April 2007, 5:00 p.m.\n",
      "_TTL: Head of Internal Audit\n",
      "start_date: 25 January 2008\n",
      "LOCATION: Yerevan, Armenia\n",
      "REQUIRED QUALIFICATIONS:\n",
      " - University degree in Law; \n",
      "- At leas 1 year of work experience in the Central Bank or 2 years of\n",
      "work experience elsewhere;\n",
      "- Advanced knowledge of corporate, banking, labour, civil, civil\n",
      "procedures, constitutional, procurement, public tenders, currency, tax,\n",
      "international law, and legislation governing legal technique;\n",
      "- Fluent in Armenian, Russian and English languages;\n",
      "- Computer skills: MS Office, IRTEK, ARLIS.\n",
      "about_company:\n",
      " Habitat for Humanity is a nonprofit organization that\n",
      "welcomes to its work all people dedicated to the cause of eliminating\n",
      "poverty housing. Since its founding in the USA in 1976, Habitat has\n",
      "built more than 250,000 houses in nearly 90 countries, providing simple,\n",
      "decent and affordable shelter for more than one million people. Habitat\n",
      "has worked in Armenia since 2000 and has served over 400 families.\n",
      "See the website for more information: www.habitat.am.\n",
      "remuneration: Competitive\n",
      "------------------------------\n"
     ]
    }
   ],
   "source": [
    "print(all_job_lists[32431])"
   ]
  },
  {
   "cell_type": "code",
   "execution_count": 96,
   "metadata": {},
   "outputs": [
    {
     "data": {
      "text/plain": [
       "2252"
      ]
     },
     "execution_count": 96,
     "metadata": {},
     "output_type": "execute_result"
    }
   ],
   "source": [
    "len([_ for val in job_description if val == None])"
   ]
  },
  {
   "cell_type": "markdown",
   "metadata": {},
   "source": [
    "From the sample files provided for xml and json, it can be inferred that `Job Description` has sub elements within the main element, thus spitting each description by `. ` and storing it in a multidimensional list."
   ]
  },
  {
   "cell_type": "code",
   "execution_count": 97,
   "metadata": {},
   "outputs": [],
   "source": [
    "job_description_ind = [\n",
    "    re.split(r\"\\. \", val)\n",
    "    if val is not None\n",
    "    else\n",
    "        None\n",
    "    for val in job_description\n",
    "]"
   ]
  },
  {
   "cell_type": "code",
   "execution_count": 98,
   "metadata": {},
   "outputs": [],
   "source": [
    "job_description_ind = [\n",
    "    [\n",
    "        v.strip()\n",
    "        if val is not None\n",
    "        else\n",
    "            None\n",
    "        for v in val\n",
    "        if len(v.strip()) > 0\n",
    "    ]\n",
    "    if val is not None\n",
    "    else\n",
    "        []\n",
    "    for val in job_description_ind\n",
    "]"
   ]
  },
  {
   "cell_type": "code",
   "execution_count": 99,
   "metadata": {},
   "outputs": [
    {
     "data": {
      "text/plain": [
       "['Financial Sector Deepening Project (FSDP) will be\\nassisting Ministry of Finance and Economy (MFE) in the official\\ntranslation and national adoption of International Financial Reporting\\nStandards (IFRS) in accordance with the requirements and procedure of\\nInternational Accounting Standards Board (IASB) and Review Committee\\n(RC) Experts',\n",
       " 'In this regard, FSDP announces 3-4 job vacancies for\\nIFRS/IAS Translation Review Committee Experts, who will be responsible\\nfor review, editing, and revision of the Armenian translation of the\\ntranslated International Financial Reporting Standards (IFRS) in\\naccordance with the IASB/IASCF requirements and procedures.\\nThe Review Committee Experts must be approved by the IASC Foundation.']"
      ]
     },
     "execution_count": 99,
     "metadata": {},
     "output_type": "execute_result"
    }
   ],
   "source": [
    "job_description_ind[7750]"
   ]
  },
  {
   "cell_type": "markdown",
   "metadata": {},
   "source": [
    "### 6.9 Job Salary"
   ]
  },
  {
   "cell_type": "markdown",
   "metadata": {},
   "source": [
    "Getting a list of possible feature names for `Job Salary`"
   ]
  },
  {
   "cell_type": "code",
   "execution_count": 100,
   "metadata": {},
   "outputs": [
    {
     "name": "stdout",
     "output_type": "stream",
     "text": [
      "net salary\n",
      "sales process\n",
      "Initial salary\n",
      "REMUNERATION\n",
      "sales statistics\n",
      "Proactive Sales\n",
      "equipment sales\n",
      "property sales\n",
      "remuneration\n",
      "Proposal\n",
      "Sallary\n",
      "Annual salary\n",
      "Starting salary\n",
      "sales activities\n",
      "Sales\n",
      "Salary\n",
      "Starting Salary\n",
      "Sales activities\n",
      "JOB_SAL\n",
      "Sales skills\n",
      "salary\n",
      "Fixed salary\n",
      "competitive salary\n",
      "Salary Range\n",
      "SALARY\n",
      "Aftersales businesses\n",
      "Sales Director\n",
      "salary to\n",
      "salaries to\n"
     ]
    }
   ],
   "source": [
    "find_feature_names([\"sal\", \"remun\", \"job_sal\", \"job_remun\"], possible_features)"
   ]
  },
  {
   "cell_type": "markdown",
   "metadata": {},
   "source": [
    "From the above list the variations for `Job Salary` possible feature names are:\n",
    "1. JOB_SAL\n",
    "2. SALARY\n",
    "3. REMUNERATION\n",
    "4. salary\n",
    "5. remuneration"
   ]
  },
  {
   "cell_type": "markdown",
   "metadata": {},
   "source": [
    "__Analysis:__\n",
    "\n",
    "1. Multiline feature, with a short body.\n",
    "2. Variations of the feature name that includes the string `SALA` and `REMUNERATION` that can be used as a part of the __re__.\n",
    "3. `SALA` has been used to eliminate the tokens having `Sales` as a substring.\n",
    "4. However in doing so, an additional matching group must be added specifically for `JOB_SAL`.\n",
    "5. Using a positive look ahead to match the first occurrence of `:` or the sequence `---` which indicates the next feature name or end of listing respectively.\n",
    "\n",
    "Based on these observations, a regular expression for `Job Responsibility` would be:"
   ]
  },
  {
   "cell_type": "code",
   "execution_count": 101,
   "metadata": {},
   "outputs": [],
   "source": [
    "job_salary_re = r\"(?:(?:(?:[rR][eE][mM][uU][nN])|(?:JOB_SAL)|(?:(?<![ ])[sS][aA][lL][aA])).*:)((?:.*\\n)*?)(?=(?:(?:.*:)|(?:---+)))\""
   ]
  },
  {
   "cell_type": "markdown",
   "metadata": {},
   "source": [
    "__Regular Expression used:__ \n",
    "\n",
    "`(?:(?:(?:[rR][eE][mM][uU][nN])|(?:JOB_SAL)|(?:(?<![ ])[sS][aA][lL][aA])).*:)((?:.*\\n)*?)(?=(?:(?:.*:)|(?:---+)))` <br/>\n",
    "__Explanation:__ \n",
    "\n",
    "- Match strings containing `SALA` and `REMUN` in both cases as a part of the string followed by all characters till the last occurence of `: `\n",
    "- As a part of deductions from the initial analysis, an additional matching group has been added for `JOB_SAL`.\n",
    "- A negative look behind for matching `SALA` has been used to eliminate feature names where `salary` or any other variation is used as the second word.\n",
    "- Matching all characters thereafter within the same line using the expression `(.*\\n)*`\n",
    "- The end for each feature value is found using a positive look ahead by matching the finding the first occurence of `:` or the sequence of `---+`"
   ]
  },
  {
   "cell_type": "code",
   "execution_count": 102,
   "metadata": {},
   "outputs": [],
   "source": [
    "job_salary = [\n",
    "    re.findall(job_salary_re, val)[0]\n",
    "    if len(re.findall(job_salary_re, val)) > 0\n",
    "    else\n",
    "        None\n",
    "    for val in all_job_lists\n",
    "]"
   ]
  },
  {
   "cell_type": "markdown",
   "metadata": {},
   "source": [
    "Finding the indices for `None` values to perform manual validation."
   ]
  },
  {
   "cell_type": "code",
   "execution_count": 103,
   "metadata": {},
   "outputs": [
    {
     "name": "stdout",
     "output_type": "stream",
     "text": [
      "[40, 64, 73]\n",
      "[13834, 13857, 13863, 13881, 13883]\n",
      "[32417, 32426, 32451]\n"
     ]
    }
   ],
   "source": [
    "print([index for index, val in enumerate(job_salary) if val == None][2:5])\n",
    "print([index for index, val in enumerate(job_salary) if val == None][1000:1005])\n",
    "print([index for index, val in enumerate(job_salary) if val == None][-3:])"
   ]
  },
  {
   "cell_type": "code",
   "execution_count": 104,
   "metadata": {},
   "outputs": [
    {
     "data": {
      "text/plain": [
       "2356"
      ]
     },
     "execution_count": 104,
     "metadata": {},
     "output_type": "execute_result"
    }
   ],
   "source": [
    "len([_ for val in job_salary if val == None])"
   ]
  },
  {
   "cell_type": "code",
   "execution_count": 105,
   "metadata": {},
   "outputs": [
    {
     "name": "stdout",
     "output_type": "stream",
     "text": [
      "ID: 28048\n",
      "PROCEDURES: Please send your CV in Russian or Armenian\n",
      "languages with a recent photo to: ngyulzadyan@... .\n",
      "Please clearly mention in your application letter that you learned of\n",
      "this job opportunity through Career Center and mention the URL of its\n",
      "website - www.careercenter.am, Thanks.\n",
      "DEAD_LINE: 22 September 2005\n",
      "JOB_T: Software Developer, Software Development Unit, IT and Automation\n",
      "Division\n",
      "START DATE/\n",
      "DATES: 09 March 2007\n",
      "_LOCS: Yerevan, Armenia\n",
      "QUALIFS:\n",
      " - Higher Humanitarian or Economic education;\n",
      "- At least 2 years of work experience in the relevant field;\n",
      "- Excellent knowledge of business ethic and behavior;\n",
      "- Ability to work under pressure;\n",
      "- High sense of responsibility and diligence;\n",
      "- Ability to work with confidential information and top secret\n",
      "documentation; \n",
      "- Fluency in Armenian and Russian languages; good knowledge of English\n",
      "language;\n",
      "- Good knowledge of MS Office tools.\n",
      "ABOUT:\n",
      " \n",
      "JOB DESCRIPTION: We are looking for qualified Web Developers.\n",
      "responsibilities:\n",
      " - Place web announcements in the Internet;\n",
      "- Check the e-mails, process the correspondence and answer to client\n",
      "e-mails;\n",
      "- Create and operate client database sheets;\n",
      "- Receive and send parts of the ITN project to clients.\n",
      "------------------------------\n"
     ]
    }
   ],
   "source": [
    "print(all_job_lists[32451])"
   ]
  },
  {
   "cell_type": "markdown",
   "metadata": {},
   "source": [
    "### 6.10 About Company"
   ]
  },
  {
   "cell_type": "code",
   "execution_count": 106,
   "metadata": {},
   "outputs": [
    {
     "name": "stdout",
     "output_type": "stream",
     "text": [
      "following information\n",
      "company procedures\n",
      "information call\n",
      "the Company\n",
      "ABOUT\n",
      "company website\n",
      "Contact Info\n",
      "company at\n",
      "About Trainers\n",
      "about\n",
      "COMPANYS_INFO\n",
      "Information Technology\n",
      "information management\n",
      "Company at\n",
      "company interests\n",
      "Company on\n",
      "technical information\n",
      "information systems\n",
      "the company\n",
      "Information\n",
      "information about\n",
      "Information management\n",
      "Contact Information\n",
      "company address\n",
      "information\n",
      "more information\n",
      "_info\n",
      "Additional Information\n",
      "company property\n",
      "company employees\n",
      "company staff\n",
      "Information Ordering\n",
      "contact information\n",
      "about_company\n",
      "with information\n",
      "company visit\n",
      "Information Flow\n",
      "management company\n",
      "information visit\n",
      "ABOUT COMPANY\n"
     ]
    }
   ],
   "source": [
    "find_feature_names([\"about\", \"abt\", \"company\", \"info\"], possible_features)"
   ]
  },
  {
   "cell_type": "markdown",
   "metadata": {},
   "source": [
    "From the above list the variations for `Company Information` possible feature names are:\n",
    "1. ABOUT COMPANY\n",
    "2. ABOUT\n",
    "3. \\_info\n",
    "4. about_company\n",
    "5. COMPANYS_INFO"
   ]
  },
  {
   "cell_type": "markdown",
   "metadata": {},
   "source": [
    "Feature names have been identified, but there seems to be no unique way to find the ending point for `Company Information`, unless use every remaining key present after `Company Information` to identify the end."
   ]
  },
  {
   "cell_type": "markdown",
   "metadata": {},
   "source": [
    "However, that seems unrealistic. Another approach would be to create a copy of the dataset, and removing features from the end and their values that have been captured. Thus leaving only `Company Information` at the end which can then be easily identified."
   ]
  },
  {
   "cell_type": "code",
   "execution_count": 107,
   "metadata": {},
   "outputs": [],
   "source": [
    "def remove_end(data=None, feature=None):\n",
    "    if data == None:\n",
    "        return\n",
    "    else:\n",
    "        copy_data = []\n",
    "        \n",
    "        for listing in data:\n",
    "            index = -1\n",
    "            new_listing = listing\n",
    "            for name in feature:\n",
    "                index = listing.find(name+\":\")\n",
    "                if index != -1:\n",
    "                    break\n",
    "            \n",
    "            if index != -1:\n",
    "                new_listing = listing[:index] + listing[-30:]\n",
    "            copy_data.append(new_listing)\n",
    "    return copy_data"
   ]
  },
  {
   "cell_type": "markdown",
   "metadata": {},
   "source": [
    "__Method: $remove\\_end()$__\n",
    "\n",
    "- Parameters: \n",
    "    - data[list]: Dataset for each listing.\n",
    "    - feature[list]: List of all possible feature names which are to be matched to remove from each listing.\n",
    "\n",
    "- Returns: \n",
    "    - copy_data[list]: Dataset listings with the removed feature.\n",
    " \n",
    "- Removes the possible combination for the given $features$ from each listing."
   ]
  },
  {
   "cell_type": "markdown",
   "metadata": {},
   "source": [
    "Removing `Job Responsibility`, `Job Description` and `Job Salary` from each listing in the same order."
   ]
  },
  {
   "cell_type": "code",
   "execution_count": 108,
   "metadata": {},
   "outputs": [],
   "source": [
    "responsibility_feature = [\n",
    "    \"RESP\",\n",
    "    \"JOB RESPONSIBILITIES\",\n",
    "    \"JOB_RESPS\",\n",
    "    \"RESPONSIBILITY\",\n",
    "    \"responsibilities\"\n",
    "]"
   ]
  },
  {
   "cell_type": "code",
   "execution_count": 109,
   "metadata": {},
   "outputs": [],
   "source": [
    "description_feature = [\n",
    "    \"JOB DESCRIPTION\",\n",
    "    \"job_desc\",\n",
    "    \"_description\",\n",
    "    \"JOB_DESC\",\n",
    "    \"DESCRIPTION\"\n",
    "]"
   ]
  },
  {
   "cell_type": "code",
   "execution_count": 110,
   "metadata": {},
   "outputs": [],
   "source": [
    "salary_feature = [\n",
    "    \"JOB_SAL\",\n",
    "    \"SALARY\",\n",
    "    \"REMUNERATION\",\n",
    "    \"salary\",\n",
    "    \"remuneration\"\n",
    "]"
   ]
  },
  {
   "cell_type": "code",
   "execution_count": 111,
   "metadata": {},
   "outputs": [],
   "source": [
    "features = [\n",
    "    responsibility_feature,\n",
    "    description_feature,\n",
    "    salary_feature\n",
    "]"
   ]
  },
  {
   "cell_type": "code",
   "execution_count": 112,
   "metadata": {},
   "outputs": [],
   "source": [
    "new_data = all_job_lists.copy()\n",
    "for feature in features:\n",
    "    new_data = remove_end(new_data, feature=feature)"
   ]
  },
  {
   "cell_type": "markdown",
   "metadata": {},
   "source": [
    "__Analysis:__\n",
    "\n",
    "1. Multiline Feature\n",
    "2. Variations of the feature name that includes the string `_info`, and `about` along with the different cases can be used as a part of the __re__.\n",
    "3. Since `Company Information` is the last feature for the new data, we can match the end with the sequence of `---`.\n",
    "\n",
    "Based on these observations, a regular expression for `Company Information` would be:"
   ]
  },
  {
   "cell_type": "code",
   "execution_count": 113,
   "metadata": {},
   "outputs": [],
   "source": [
    "job_about_re = r\"(?:(?:(?:[aA][bB][oO][uU][tT])|(?:_[iI][nN][fF][oO])).*:)((?:.*\\n)*?)(?=---+)\""
   ]
  },
  {
   "cell_type": "code",
   "execution_count": 114,
   "metadata": {},
   "outputs": [],
   "source": [
    "job_about = [\n",
    "    re.findall(job_about_re, val)[0]\n",
    "    if len(re.findall(job_about_re, val)) > 0\n",
    "    else\n",
    "        None\n",
    "    for val in new_data\n",
    "]"
   ]
  },
  {
   "cell_type": "code",
   "execution_count": 115,
   "metadata": {},
   "outputs": [
    {
     "name": "stdout",
     "output_type": "stream",
     "text": [
      "[27, 43, 44]\n",
      "[14139, 14148, 14172, 14173, 14178]\n",
      "[32424, 32449, 32472]\n"
     ]
    }
   ],
   "source": [
    "print([index for index, val in enumerate(job_about) if val == None][2:5])\n",
    "print([index for index, val in enumerate(job_about) if val == None][1000:1005])\n",
    "print([index for index, val in enumerate(job_about) if val == None][-3:])"
   ]
  },
  {
   "cell_type": "code",
   "execution_count": 116,
   "metadata": {},
   "outputs": [
    {
     "data": {
      "text/plain": [
       "2242"
      ]
     },
     "execution_count": 116,
     "metadata": {},
     "output_type": "execute_result"
    }
   ],
   "source": [
    "len([_ for val in job_about if val == None])"
   ]
  },
  {
   "cell_type": "code",
   "execution_count": 117,
   "metadata": {},
   "outputs": [
    {
     "name": "stdout",
     "output_type": "stream",
     "text": [
      "ID: 59399\n",
      "PROCEDURE: Interested candidates for this position should\n",
      "submit the following:\n",
      "A.  Application for Federal Employment (SF-171 or OF-612);  or\n",
      "B.  A current resume\n",
      "C.  Documentation (e.g., essays, certificates, awards, copies of degrees\n",
      "earned) that address the minimum requirements of the position as listed\n",
      "above.\n",
      "SUBMIT APPLICATION TO\n",
      "Human Resources Office \n",
      "Attention: Hasmik Melkonyan \n",
      "18 Baghramian Ave, Yerevan 375019, Armenia\n",
      "POINT OF CONTACT\n",
      "Name: Gohar Sargsyan \n",
      "Telephone: (374 1) 52-46-61\n",
      "DEAD_LINE: 16 March 2014\n",
      "START DATE: 31 July 2013\n",
      "LOCATION: Yerevan, Armenia\n",
      "REQUIRED QUALIFICATIONS:\n",
      " - Higher education, preferably in Humanities; students may apply as\n",
      "well;\n",
      "- Excellent communication skills, enthusiastic and proactive\n",
      "personality;\n",
      "- Excellent skills in Armenian language (knowledge of dialects as well as\n",
      "distinct handwriting are preferable);\n",
      "- Ability to work under pressure and within strict time frames;\n",
      "- Ability to travel within Armenia for the scheduled dates;\n",
      "- Ability to work in a group and establish good relationships with\n",
      "people;\n",
      "- Positive personal traits: honesty, responsibility, politeness and\n",
      "punctuality.\n",
      "REMUNERATION/\n",
      "salary: Highly competitive\n",
      "JOB DESCRIPTION: Telasco Communications CJSC is looking for a\n",
      "hardworking individual to fulfill the position of a Web Developer.\n",
      "RESPONSIBILITY:\n",
      " - Design and produce web site graphics;\n",
      "- Create designs for web projects;\n",
      "- Create visual designs that address business, brand, market, and user\n",
      "requirements, including the design and production of site and screen\n",
      "layouts, color palettes, typography, and user interface elements;\n",
      "- Develop codes that are cross-browser and cross-platform compatible;\n",
      "- Assist with planning and development of rich user interfaces for web\n",
      "portal pages in accordance to design specifications;\n",
      "- Produce web images, site layouts, icons and prototypes.\n",
      "------------------------------\n"
     ]
    }
   ],
   "source": [
    "print(all_job_lists[14421])"
   ]
  },
  {
   "cell_type": "markdown",
   "metadata": {},
   "source": [
    "### 6.11 Job Qualifications"
   ]
  },
  {
   "cell_type": "markdown",
   "metadata": {},
   "source": [
    "Finding possible feature names for job qualifications"
   ]
  },
  {
   "cell_type": "code",
   "execution_count": 118,
   "metadata": {},
   "outputs": [
    {
     "name": "stdout",
     "output_type": "stream",
     "text": [
      "Personal qualities\n",
      "qualifications\n",
      "QUALIFICATION\n",
      "Desired Qualifications\n",
      "Preferred qualifications\n",
      "Other qualifications\n",
      "Desired qualifications\n",
      "qualified\n",
      "Quality Control\n",
      "Preferred qualification\n",
      "Specific Qualifications\n",
      "Quality control\n",
      "REQ_QUALS\n",
      "Quality Assurance\n",
      "qualifications to\n",
      "Qualifications\n",
      "following qualifications\n",
      "Main Qualifications\n",
      "qualifications are\n",
      "Professional qualities\n",
      "Other Qualifications\n",
      "REQUIRED QUALIFICATIONS\n",
      "Academic qualifications\n",
      "Desirable Qualifications\n",
      "and Qualifications\n",
      "Minimum Qualifications\n",
      "QUALIFS\n",
      "Qualification requirements\n",
      "and qualifications\n",
      "Preferred Qualifications\n",
      "are qualified\n",
      "Quality Improvement\n",
      "Main qualifications\n",
      "Academic Qualifications\n",
      "Preferred Qualification\n",
      "Quality Management\n",
      "qualifications include\n",
      "quality assurance\n",
      "Specific qualifications\n",
      "Recruitment qualifications\n",
      "water quality\n",
      "qualification to\n",
      "Personal Qualities\n",
      "Additional Qualifications\n",
      "minimum qualifications\n",
      "quality management\n"
     ]
    }
   ],
   "source": [
    "find_feature_names([\"qual\"], possible_features)"
   ]
  },
  {
   "cell_type": "markdown",
   "metadata": {},
   "source": [
    "From the above list the variations for `Required Qualifications` possible feature names are:\n",
    "\n",
    "1. REQUIRED QUALIFICATIONS\n",
    "2. QUALIFS\n",
    "3. REQ_QUALS\n",
    "4. qualifications\n",
    "5. QUALIFICATION\n",
    "6. Qualifications"
   ]
  },
  {
   "cell_type": "markdown",
   "metadata": {},
   "source": [
    "Using the same approach used for `Company Information`, removing this feature from each listing."
   ]
  },
  {
   "cell_type": "code",
   "execution_count": 119,
   "metadata": {},
   "outputs": [],
   "source": [
    "about_feature = [\n",
    "    \"ABOUT COMPANY\",\n",
    "    \"ABOUT\",\n",
    "    \"_info\",\n",
    "    \"about_company\",\n",
    "    \"COMPANYS_INFO\"\n",
    "]"
   ]
  },
  {
   "cell_type": "code",
   "execution_count": 120,
   "metadata": {},
   "outputs": [],
   "source": [
    "new_data = remove_end(new_data, feature=about_feature)"
   ]
  },
  {
   "cell_type": "code",
   "execution_count": 121,
   "metadata": {},
   "outputs": [
    {
     "name": "stdout",
     "output_type": "stream",
     "text": [
      "ID: 29711\n",
      "JOB_PROC: Please submit your resumes to:http://tbe.taleo.net/NA6/ats/careers/requisition.jsp?org=QUESTRADE&cws=1&rid=223\n",
      "Please clearly mention in your application letter that you learned of\n",
      "this job opportunity through Career Center and mention the URL of its\n",
      "website - www.careercenter.am, Thanks.\n",
      "DEAD_LINE: 14 October 2014, 18:00\n",
      "JOB_T: Head of Corporate Customers Relationship Management Division\n",
      "OPEN TO/\n",
      "DATE_START: 12 July 2005\n",
      "JOB_LOC: Yerevan, Armenia\n",
      "REQUIRED QUALIFICATIONS:\n",
      " - Higher education;\n",
      "- At least 2 years of work experience in programming.\n",
      "REMUNERATION/\n",
      "------------------------------\n"
     ]
    }
   ],
   "source": [
    "print(new_data[0])"
   ]
  },
  {
   "cell_type": "markdown",
   "metadata": {},
   "source": [
    "__Analysis:__\n",
    "\n",
    "1. Multiline Feature\n",
    "2. Variations of the feature name that includes the string `qual`, along with the different cases can be used as a part of the __re__.\n",
    "3. Since `Qualifications` is the last feature for the new data, we can match the end with the sequence of `---`.\n",
    "\n",
    "Based on these observations, a regular expression for `Qualifications` would be:"
   ]
  },
  {
   "cell_type": "code",
   "execution_count": 122,
   "metadata": {},
   "outputs": [],
   "source": [
    "job_qualification_re = r\"(?:(?:(?:REQ_QUALS)|(?:[qQ][uU][aA][lL][iI][fF])).*:)((?:.*\\n)*?)(?=---+)\""
   ]
  },
  {
   "cell_type": "markdown",
   "metadata": {},
   "source": [
    "__Regular Expression used:__ \n",
    "\n",
    "`(?:(?:(?:REQ_QUALS)|(?:[qQ][uU][aA][lL][iI][fF])).*:)((?:.*\\n)*?)(?=---+)` <br/>\n",
    "__Explanation:__ \n",
    "\n",
    "- Match strings containing `qualif` and `REQ_QUALS` in both cases as a part of the string followed by all characters till the last occurence of `: `\n",
    "- Matching all characters thereafter within the same line using the expression `(.*\\n)*`\n",
    "- The end for each feature value is found using a positive look ahead by matching the finding the first occurence of the sequence of `---+` since it is now the last feature for the new data."
   ]
  },
  {
   "cell_type": "code",
   "execution_count": 123,
   "metadata": {},
   "outputs": [],
   "source": [
    "job_qualification = [\n",
    "    re.findall(job_qualification_re, val)[0]\n",
    "    if len(re.findall(job_qualification_re, val)) > 0\n",
    "    else\n",
    "        None\n",
    "    for val in new_data\n",
    "]"
   ]
  },
  {
   "cell_type": "markdown",
   "metadata": {},
   "source": [
    "Each qualification has multiple bullet points, thus seperating each bullet point, and storing it in a multidimensional list."
   ]
  },
  {
   "cell_type": "code",
   "execution_count": 124,
   "metadata": {},
   "outputs": [],
   "source": [
    "job_qualification_ind = [\n",
    "    re.split(r\"- \", val)\n",
    "    if val is not None\n",
    "    else\n",
    "        None\n",
    "    for val in job_qualification\n",
    "]"
   ]
  },
  {
   "cell_type": "code",
   "execution_count": 125,
   "metadata": {},
   "outputs": [],
   "source": [
    "job_qualification_ind = [\n",
    "    [\n",
    "        v.strip()\n",
    "        if val is not None\n",
    "        else\n",
    "            None\n",
    "        for v in val\n",
    "        if len(v.strip()) > 0\n",
    "    ]\n",
    "    if val is not None\n",
    "    else\n",
    "        []\n",
    "    for val in job_qualification_ind\n",
    "]"
   ]
  },
  {
   "cell_type": "code",
   "execution_count": 126,
   "metadata": {},
   "outputs": [
    {
     "name": "stdout",
     "output_type": "stream",
     "text": [
      "[24, 36, 41]\n",
      "[14067, 14072, 14074, 14111, 14126]\n",
      "[32400, 32414, 32442]\n"
     ]
    }
   ],
   "source": [
    "print([index for index, val in enumerate(job_qualification) if val == None][2:5])\n",
    "print([index for index, val in enumerate(job_qualification) if val == None][1000:1005])\n",
    "print([index for index, val in enumerate(job_qualification) if val == None][-3:])"
   ]
  },
  {
   "cell_type": "code",
   "execution_count": 127,
   "metadata": {},
   "outputs": [
    {
     "name": "stdout",
     "output_type": "stream",
     "text": [
      "ID: 96655\n",
      "JOB_PROC: If you are interested in this position, please\n",
      "submit your application for the position of \"\"Consultant. MSE Finance in\n",
      "Armenia\"\" online at: http://www.bfconsulting.org/submit_cv.php.\n",
      "Please include your cover letter and information about your work\n",
      "experience and education.\n",
      "Please clearly mention in your application letter that you learned of\n",
      "this job opportunity through Career Center and mention the URL of its\n",
      "website - www.careercenter.am, Thanks.\n",
      "DEAD_LINE: 11 May 2007\n",
      "TITLES: Chief Accountant\n",
      "DATES: 14 April 2014\n",
      "LOCATION: Yerevan, Armenia\n",
      "ABOUT COMPANY:\n",
      " Arge Business LLC is an Official Distributor of Proctor &\n",
      "Gamble in\n",
      "SALARY: Up to 400,000-600,000 AMD (based on education and\n",
      "experience)\n",
      "JOB_DESC: N/A\n",
      "RESPONSIBILITY:\n",
      " - Coordinate documentation preparation and requirements for finalization\n",
      "of customs clearance process in compliance with local regulations;\n",
      "- Calculate budget for customs fees;\n",
      "- Cooperate with internal and external entities in order to secure an\n",
      "effective operation of the whole customs clearance process;\n",
      "- Go to the customs stocks and be present during preliminary examination\n",
      "of the goods (check the quantity, quality and confirm receipt);\n",
      "- Coordinate goods supply from customs to warehouses;\n",
      "- Prepare reports of imported and exported goods on a daily basis.\n",
      "------------------------------\n"
     ]
    }
   ],
   "source": [
    "print(all_job_lists[32442])"
   ]
  },
  {
   "cell_type": "code",
   "execution_count": 128,
   "metadata": {},
   "outputs": [
    {
     "data": {
      "text/plain": [
       "2322"
      ]
     },
     "execution_count": 128,
     "metadata": {},
     "output_type": "execute_result"
    }
   ],
   "source": [
    "len([_ for val in job_qualification if val == None])"
   ]
  },
  {
   "cell_type": "code",
   "execution_count": 129,
   "metadata": {},
   "outputs": [
    {
     "name": "stdout",
     "output_type": "stream",
     "text": [
      "Master's degree in a relevant field; MBA is preferred;\n",
      "\n",
      "At least 3 years of work experience in a relevant field;\n",
      "\n",
      "Ability to work under pressure; stress tolerance;\n",
      "\n",
      "Outstanding interpersonal, negotiation and conflict resolution skills;\n",
      "\n",
      "Critical thinking skills and attention to details;\n",
      "\n",
      "Excellent knowledge of the Armenian, Russian and English languages;\n",
      "\n",
      "Advanced user of MS Office and accounting software (1C or other\n",
      "software).\n",
      "\n",
      "\n",
      "REMUNERATION/\n",
      "\n"
     ]
    }
   ],
   "source": [
    "for val in job_qualification_ind[39]:\n",
    "    print(val)\n",
    "    print()"
   ]
  },
  {
   "cell_type": "markdown",
   "metadata": {},
   "source": [
    "## 7. Converting to XML:"
   ]
  },
  {
   "cell_type": "markdown",
   "metadata": {},
   "source": [
    "Creating listings tag"
   ]
  },
  {
   "cell_type": "markdown",
   "metadata": {},
   "source": [
    "Finding the total job listings provided."
   ]
  },
  {
   "cell_type": "code",
   "execution_count": 130,
   "metadata": {},
   "outputs": [],
   "source": [
    "total_listings = len(all_job_lists)"
   ]
  },
  {
   "cell_type": "code",
   "execution_count": 131,
   "metadata": {},
   "outputs": [
    {
     "name": "stdout",
     "output_type": "stream",
     "text": [
      "32474\n"
     ]
    }
   ],
   "source": [
    "print(total_listings)"
   ]
  },
  {
   "cell_type": "code",
   "execution_count": 132,
   "metadata": {},
   "outputs": [],
   "source": [
    "def create_id(index, fh):\n",
    "    fh.write('<listing id=\"{}\">'.format(job_id_int[index]))\n",
    "    fh.write(\"\\n\")\n",
    "    return \n",
    "\n",
    "def close_id(fh):\n",
    "    fh.write('</listing>')\n",
    "    fh.write(\"\\n\")\n",
    "    return"
   ]
  },
  {
   "cell_type": "markdown",
   "metadata": {},
   "source": [
    "__Method: $create\\_id()$__\n",
    "\n",
    "- Parameters: \n",
    "    - index[int]: The `index` for the given listing.\n",
    "    - fh: File pointer for writing into the file.\n",
    "    \n",
    "- Write an opening tag for individual job listing for the given `index`"
   ]
  },
  {
   "cell_type": "markdown",
   "metadata": {},
   "source": [
    "__Method: $close\\_id()$__\n",
    "\n",
    "- Parameters: \n",
    "    - fh: File pointer for writing into the file.\n",
    "    \n",
    "- Write the closing tag for individual listing into the file."
   ]
  },
  {
   "cell_type": "code",
   "execution_count": 133,
   "metadata": {},
   "outputs": [],
   "source": [
    "def create_tag(index, fh, list_name, tag_name, nested_list=None, nested_tag_name=None, nested=False):\n",
    "    if nested:\n",
    "        fh.write('<{}>'.format(tag_name))\n",
    "        fh.write(\"\\n\")\n",
    "        if list_name[index] is not None:\n",
    "            for val in nested_list[index]:\n",
    "                fh.write(\"<{}>\".format(nested_tag_name))\n",
    "                fh.write(\"\\n\")\n",
    "                \n",
    "                val = re.sub(r\"&\", r\"&amp;\", val)\n",
    "                val = re.sub(r\"<\", r\"&lt;\", val)\n",
    "                val = re.sub(r\">\", r\"&gt;\", val)\n",
    "                \n",
    "                fh.write(\"{}\".format(val))\n",
    "                fh.write(\"\\n\")\n",
    "                fh.write(\"</{}>\".format(nested_tag_name))\n",
    "                fh.write(\"\\n\")\n",
    "        else:\n",
    "            fh.write(\"N/A\")\n",
    "            fh.write(\"\\n\")\n",
    "    else:\n",
    "        fh.write('<{}>'.format(tag_name))\n",
    "        fh.write(\"\\n\")\n",
    "        if list_name[index] is not None: \n",
    "            val = list_name[index]\n",
    "            val = re.sub(r\"&\", r\"&amp;\", val)\n",
    "            val = re.sub(r\"<\", r\"&lt;\", val)\n",
    "            val = re.sub(r\">\", r\"&gt;\", val)\n",
    "            \n",
    "            fh.write(\"{}\".format(val))\n",
    "            fh.write(\"\\n\")\n",
    "        else:\n",
    "            fh.write(\"N/A\")\n",
    "            fh.write(\"\\n\")\n",
    "    return"
   ]
  },
  {
   "cell_type": "markdown",
   "metadata": {},
   "source": [
    "__Method: $create\\_tag()$__\n",
    "\n",
    "- Parameters: \n",
    "    - index[int]: The `index` for the given listing.\n",
    "    - fh: File pointer for writing into the file.\n",
    "    - list_name: The feature list from which the value must be pulled for the given `index`.\n",
    "    - tag_name: The tag name for the given feature.\n",
    "    - nested_list: In case of nested elements present, this parameter would have the contents for the nested elements.\n",
    "    - nested_tag_name: The tag name for the nested elements.\n",
    "    - nested: Boolean variable to check if nested elements are present or not.\n",
    "    \n",
    "- Creating a tag for the given feature along with the necessary data, if nested elements are present write them into the file as well, along with the closing tag."
   ]
  },
  {
   "cell_type": "markdown",
   "metadata": {},
   "source": [
    "While creating the XML file, things need to be taken into consideration are that 3 symbols `&`, `<` and `>` have special meanings, and hence must be converted to `&amp;`, `&lt` and `&gt` respectively.\n",
    "\n",
    "To perform this operation the [$sub()$](https://docs.python.org/3.6/library/re.html#re.sub) (Python Software Foundation, 2018) module from re has been utilized, which finds the occurrence of the character and replaces with the substitute string."
   ]
  },
  {
   "cell_type": "code",
   "execution_count": 134,
   "metadata": {},
   "outputs": [],
   "source": [
    "def close_tag(fh, tag_name):\n",
    "    fh.write('</{}>'.format(tag_name))\n",
    "    fh.write(\"\\n\")\n",
    "    return"
   ]
  },
  {
   "cell_type": "markdown",
   "metadata": {},
   "source": [
    "__Method: $close\\_tag()$__\n",
    "\n",
    "- Parameters: \n",
    "    - fh: File pointer for writing into the file.\n",
    "    - tag_name: The tag name for the given feature.\n",
    "    \n",
    "- Creating a closing tag for the given feature."
   ]
  },
  {
   "cell_type": "code",
   "execution_count": 135,
   "metadata": {},
   "outputs": [
    {
     "name": "stdout",
     "output_type": "stream",
     "text": [
      "XML File has been created.\n"
     ]
    }
   ],
   "source": [
    "listing_counter = 0\n",
    "with open(\"output.xml\", encoding=\"utf-8\", mode=\"w\") as fh:\n",
    "    fh.write('<?xml version=\"1.0\" encoding=\"UTF-8\"?>')\n",
    "    fh.write(\"\\n\")\n",
    "    fh.write(\"<listings>\")\n",
    "    fh.write(\"\\n\")\n",
    "    \n",
    "    # Order of the tags being written into the file.\n",
    "    # Each tuple consists of the following fields:\n",
    "    # 1. Feature list\n",
    "    # 2. Feature name\n",
    "    # 3. Nested element list\n",
    "    # 4. Nested element name\n",
    "    # 5. Nested element boolean flag\n",
    "    tag_list = [\n",
    "        (job_titles, \"title\", None, None, False),\n",
    "        (job_locations, \"location\", None, None, False),\n",
    "        (job_description, \"job_descriptions\", job_description_ind, \"description\", True),\n",
    "        (job_responsibility, \"job_responsibilities\", job_responsibility_ind, \"responsibility\", True),\n",
    "        (job_qualification, \"required_qualifications\", job_qualification_ind, \"qualification\", True),\n",
    "        (job_salary, \"salary\", None, None, False),\n",
    "        (job_procedures, \"application_procedure\", None, None, False),\n",
    "        (job_dates, \"start_date\", None, None, False),\n",
    "        (job_deadlines, \"application_deadline\", None, None, False),\n",
    "        (job_about, \"about_company\", None, None, False)\n",
    "    ]\n",
    "    while listing_counter < total_listings:\n",
    "        create_id(listing_counter, fh)\n",
    "        for list_name, \\\n",
    "            tag_name, \\\n",
    "            nested_list, \\\n",
    "            nested_tag_name, \\\n",
    "            nested in tag_list:\n",
    "            \n",
    "            create_tag(listing_counter, fh, list_name, tag_name, nested_list, nested_tag_name, nested)\n",
    "            close_tag(fh, tag_name)\n",
    "        \n",
    "        close_id(fh)\n",
    "        listing_counter += 1\n",
    "    fh.write(\"</listings>\")\n",
    "    print(\"XML File has been created.\")"
   ]
  },
  {
   "cell_type": "markdown",
   "metadata": {},
   "source": [
    "## 8. Converting to JSON"
   ]
  },
  {
   "cell_type": "markdown",
   "metadata": {},
   "source": [
    "JSON file can be created a json object using the [$json.dumps()$](https://docs.python.org/3.6/library/json.html#json.dumps) (Python Software Foundation, 2018) module from the `json` package, which would convert the dictionary structure into a json object that can then be written into a file."
   ]
  },
  {
   "cell_type": "code",
   "execution_count": 137,
   "metadata": {},
   "outputs": [
    {
     "name": "stdout",
     "output_type": "stream",
     "text": [
      "JSON File has been created.\n"
     ]
    }
   ],
   "source": [
    "listing_counter = 0\n",
    "job_listings = {}\n",
    "with open(\"output.json\", mode=\"w\") as fh:\n",
    "    job_listings[\"listings\"] = {\"listing\":[]}\n",
    "    \n",
    "    # Iterating over all job listings \n",
    "    while listing_counter < total_listings:\n",
    "        \n",
    "        # Getting the list of nested elements for the 3 features based on\n",
    "        # the assignment specifications. \n",
    "        # 1. Job Description\n",
    "        # 2. Job Responsibilities\n",
    "        # 3. Required Qualifications\n",
    "        description = job_description_ind[listing_counter]\n",
    "        responsibilities = job_responsibility_ind[listing_counter]\n",
    "        qualifications = job_qualification_ind[listing_counter]\n",
    "        \n",
    "        # Creating the data element for individual job listing\n",
    "        data = {\n",
    "            \"_id\": str(job_id_int[listing_counter]),\n",
    "            \"title\": job_titles[listing_counter],\n",
    "            \"location\": job_locations[listing_counter],\n",
    "            \"job_description\": {\"description\": description},\n",
    "            \"job_responsibilities\": {\"responsibility\": responsibilities},\n",
    "            \"required_qualifications\": {\"qualification\": qualifications},\n",
    "            \"salary\": job_salary[listing_counter],\n",
    "            \"application_procedure\": job_procedures[listing_counter],\n",
    "            \"start_date\": job_dates[listing_counter],\n",
    "            \"application_deadline\": job_deadlines[listing_counter],\n",
    "            \"about_company\": job_about[listing_counter]\n",
    "        }\n",
    "        \n",
    "        # Appending the data element into the dictionary\n",
    "        job_listings[\"listings\"][\"listing\"].append(data)\n",
    "        listing_counter += 1\n",
    "        \n",
    "    # Dumping the dictionary element created into a json format element.\n",
    "    job_data = json.dumps(job_listings)\n",
    "    \n",
    "    # Writing the json dump element into the file.\n",
    "    fh.write(job_data)\n",
    "    print(\"JSON File has been created.\")"
   ]
  },
  {
   "cell_type": "markdown",
   "metadata": {},
   "source": [
    "## 9. References:\n",
    "\n",
    "- Python Software Foundation (2018). *`sys` — System-specific parameters and functions*. Retrieved from https://docs.python.org/3.6/library/sys.html#module-sys\n",
    "\n",
    "- Python Software Foundation (2018). *`os` — Miscellaneous operating system interfaces*. Retrieved from https://docs.python.org/3/library/os.html#module-os\n",
    "\n",
    "- Python Software Foundation (2018). *`os` Documentation: os.listdir() module*. Retrieved from https://docs.python.org/3.6/library/os.html#os.listdir\n",
    "\n",
    "- Python Software Foundation (2018). *`re` — Regular expression operations*. Retrieved from https://docs.python.org/3.6/library/re.html#module-re\n",
    "\n",
    "- Python Software Foundation (2018). *`json` — JSON encoder and decoder*. Retrieved from https://docs.python.org/3.6/library/json.html#module-json\n",
    "\n",
    "- Python Software Foundation (2018). *`re` Documentation: re.findall() module*. Retrieved from https://docs.python.org/3.6/library/re.html#re.findall\n",
    "\n",
    "- Python Software Foundation (2018). *Built-in Functions: all() module*. https://docs.python.org/3.6/library/functions.html#all\n",
    "\n",
    "- Python Software Foundation (2018). *`re` Documentation: re.split() module*. https://docs.python.org/3.6/library/re.html#re.split\n",
    "\n",
    "- Python Software Foundation (2018). *`re` Documentation: re.sub() module*. Retrieved from https://docs.python.org/3.6/library/re.html#re.sub\n",
    "\n",
    "- Python Software Foundation (2018). *`json` Documentation: json.dumps() module*. Retrieved from https://docs.python.org/3.6/library/json.html#json.dumps\n",
    "\n",
    "- Pieters M. (2014, April 16). How to dynamically build a JSON object with Python? [Response to]. Retrieved from https://stackoverflow.com/a/23110401/6277438\n",
    "\n",
    "- Jain R. (2013, August 31). How to frame two for loops in list comprehension python [Response to]. Retrieved from https://stackoverflow.com/a/18551476/6277438\n",
    "\n",
    "- Pythex (2018). *Pythex*. Retrieved from https://pythex.org/"
   ]
  }
 ],
 "metadata": {
  "kernelspec": {
   "display_name": "Python 3",
   "language": "python",
   "name": "python3"
  },
  "language_info": {
   "codemirror_mode": {
    "name": "ipython",
    "version": 3
   },
   "file_extension": ".py",
   "mimetype": "text/x-python",
   "name": "python",
   "nbconvert_exporter": "python",
   "pygments_lexer": "ipython3",
   "version": "3.7.3"
  }
 },
 "nbformat": 4,
 "nbformat_minor": 2
}
